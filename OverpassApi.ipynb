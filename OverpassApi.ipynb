{
  "nbformat": 4,
  "nbformat_minor": 0,
  "metadata": {
    "colab": {
      "provenance": [],
      "authorship_tag": "ABX9TyNB3jjstb9uYdEC63QYdOB7",
      "include_colab_link": true
    },
    "kernelspec": {
      "name": "python3",
      "display_name": "Python 3"
    },
    "language_info": {
      "name": "python"
    }
  },
  "cells": [
    {
      "cell_type": "markdown",
      "metadata": {
        "id": "view-in-github",
        "colab_type": "text"
      },
      "source": [
        "<a href=\"https://colab.research.google.com/github/honganhss/OpenDataFitHou/blob/main/OverpassApi.ipynb\" target=\"_parent\"><img src=\"https://colab.research.google.com/assets/colab-badge.svg\" alt=\"Open In Colab\"/></a>"
      ]
    },
    {
      "cell_type": "markdown",
      "source": [
        "Thử API có hoạt hay không:"
      ],
      "metadata": {
        "id": "_8_dqj5Kbq86"
      }
    },
    {
      "cell_type": "code",
      "execution_count": 2,
      "metadata": {
        "colab": {
          "base_uri": "https://localhost:8080/"
        },
        "id": "S8mgrXZ_WK-2",
        "outputId": "6d7ce230-6339-4916-ba3a-99be8779fa13"
      },
      "outputs": [
        {
          "output_type": "stream",
          "name": "stdout",
          "text": [
            "🔍 Đang lấy dữ liệu bus stop cho bbox: (20.9,105.7,21.0,105.8)\n",
            "✅ API trả về 337 đối tượng\n",
            "📋 5 dòng dữ liệu đầu tiên:\n",
            "          id  type                                               name  \\\n",
            "0  444394880  node             Đại học Kiến Trúc - Trần Phú (Hà Đông)   \n",
            "1  444394950  node  Học viện công nghệ bưu chính viễn thông - Trần...   \n",
            "2  444394956  node                Số 10 Trần Phú - Siêu thị Việt Long   \n",
            "3  444394979  node  216 Nguyễn Trãi - Nhà Văn hóa tổ dân phố số 8 ...   \n",
            "4  738814236  node  Đối diện Trung tâm Văn hóa Thông tin Tỉnh Hà T...   \n",
            "\n",
            "         lat         lon  \n",
            "0  20.981091  105.789224  \n",
            "1  20.980523  105.788002  \n",
            "2  20.983357  105.791540  \n",
            "3  20.987886  105.797790  \n",
            "4  20.972302  105.782531  \n"
          ]
        }
      ],
      "source": [
        "import requests\n",
        "import pandas as pd\n",
        "\n",
        "# =============================\n",
        "# Cấu hình\n",
        "# =============================\n",
        "lat_min, lat_max = 20.9, 21.2\n",
        "lon_min, lon_max = 105.7, 106.0\n",
        "\n",
        "lat_step = (lat_max - lat_min) / 3\n",
        "lon_step = (lon_max - lon_min) / 3\n",
        "\n",
        "# API endpoint\n",
        "base_url = \"https://overpass.kumi.systems/api/interpreter\"\n",
        "\n",
        "# =============================\n",
        "# Test với ô (0,0) - góc dưới bên trái\n",
        "# =============================\n",
        "i, j = 0, 0\n",
        "bbox = (\n",
        "    lat_min + i*lat_step,\n",
        "    lon_min + j*lon_step,\n",
        "    lat_min + (i+1)*lat_step,\n",
        "    lon_min + (j+1)*lon_step\n",
        ")\n",
        "bbox_str = f\"({bbox[0]},{bbox[1]},{bbox[2]},{bbox[3]})\"\n",
        "\n",
        "print(f\"🔍 Đang lấy dữ liệu bus stop cho bbox: {bbox_str}\")\n",
        "\n",
        "# Query Overpass\n",
        "query = f\"\"\"\n",
        "[out:json][timeout:120];\n",
        "(\n",
        "  node[\"highway\"=\"bus_stop\"]{bbox_str};\n",
        ");\n",
        "out body;\n",
        "\"\"\"\n",
        "\n",
        "try:\n",
        "    response = requests.get(base_url, params={'data': query})\n",
        "    response.raise_for_status()\n",
        "    data = response.json()\n",
        "    print(f\"✅ API trả về {len(data.get('elements', []))} đối tượng\")\n",
        "except Exception as e:\n",
        "    print(\"❌ Lỗi khi gọi Overpass API:\", e)\n",
        "    data = {\"elements\": []}\n",
        "\n",
        "# =============================\n",
        "# Chuyển dữ liệu sang DataFrame\n",
        "# =============================\n",
        "all_data = []\n",
        "for el in data.get(\"elements\", []):\n",
        "    tags = el.get(\"tags\", {})\n",
        "    all_data.append({\n",
        "        \"id\": el.get(\"id\"),\n",
        "        \"type\": el.get(\"type\"),\n",
        "        \"name\": tags.get(\"name\"),\n",
        "        \"lat\": el.get(\"lat\"),\n",
        "        \"lon\": el.get(\"lon\"),\n",
        "    })\n",
        "\n",
        "df = pd.DataFrame(all_data)\n",
        "\n",
        "# Hiển thị kết quả\n",
        "if not df.empty:\n",
        "    print(\"📋 5 dòng dữ liệu đầu tiên:\")\n",
        "    print(df.head())\n",
        "else:\n",
        "    print(\"⚠️ Không tìm thấy dữ liệu trong bbox này\")\n"
      ]
    },
    {
      "cell_type": "markdown",
      "source": [
        "Cấu Hình Chung\n"
      ],
      "metadata": {
        "id": "u98-C_pxdbeM"
      }
    },
    {
      "cell_type": "code",
      "source": [
        "from google.colab import userdata\n",
        "\n",
        "# Lấy token từ Colab secrets\n",
        "token = userdata.get('GITHUB_TOKEN')\n",
        "\n",
        "# Đưa vào biến môi trường (để script khác có thể dùng)\n",
        "import os\n",
        "os.environ['GITHUB_TOKEN'] = token\n",
        "\n",
        "print(\"✅ Đã load token, độ dài:\", len(token) if token else \"Không có\")\n",
        "\n",
        "!git ls-remote https://${GITHUB_TOKEN}@github.com/honganhss/OpenDataFitHou.git\n",
        "\n"
      ],
      "metadata": {
        "colab": {
          "base_uri": "https://localhost:8080/"
        },
        "id": "sOl4lNXne6q3",
        "outputId": "9333063b-af57-4bc8-84fb-06e36fda9f12"
      },
      "execution_count": 8,
      "outputs": [
        {
          "output_type": "stream",
          "name": "stdout",
          "text": [
            "✅ Đã load token, độ dài: 40\n",
            "f1dfbfb7ac0ed7b6f7652e489c7f4c2fd6d717bb\tHEAD\n",
            "f1dfbfb7ac0ed7b6f7652e489c7f4c2fd6d717bb\trefs/heads/main\n",
            "f1dfbfb7ac0ed7b6f7652e489c7f4c2fd6d717bb\trefs/tags/v0.1\n"
          ]
        }
      ]
    },
    {
      "cell_type": "code",
      "source": [
        "import requests, json, time, subprocess, os\n",
        "from pathlib import Path\n",
        "from datetime import datetime\n",
        "\n",
        "# Hà Nội bounding box\n",
        "LAT_MIN, LAT_MAX = 20.9, 21.2\n",
        "LON_MIN, LON_MAX = 105.7, 106.0\n",
        "\n",
        "N_LAT, N_LON = 3, 3\n",
        "lat_step = (LAT_MAX - LAT_MIN) / N_LAT\n",
        "lon_step = (LON_MAX - LON_MIN) / N_LON\n",
        "\n",
        "# Tạo danh sách 9 bbox (lat_min, lon_min, lat_max, lon_max)\n",
        "BBOXES = []\n",
        "for i in range(N_LAT):\n",
        "    for j in range(N_LON):\n",
        "        bbox = (\n",
        "            LAT_MIN + i*lat_step,\n",
        "            LON_MIN + j*lon_step,\n",
        "            LAT_MIN + (i+1)*lat_step,\n",
        "            LON_MIN + (j+1)*lon_step\n",
        "        )\n",
        "        BBOXES.append(bbox)\n",
        "\n",
        "print(\"📦 Đã tạo 9 bbox cho Hà Nội:\")\n",
        "for b in BBOXES:\n",
        "    print(b)"
      ],
      "metadata": {
        "colab": {
          "base_uri": "https://localhost:8080/"
        },
        "id": "jECPwKfmddc5",
        "outputId": "2c4fe6c0-1bf6-4574-b7a7-72acd3f09889"
      },
      "execution_count": 3,
      "outputs": [
        {
          "output_type": "stream",
          "name": "stdout",
          "text": [
            "📦 Đã tạo 9 bbox cho Hà Nội:\n",
            "(20.9, 105.7, 21.0, 105.8)\n",
            "(20.9, 105.8, 21.0, 105.9)\n",
            "(20.9, 105.9, 21.0, 106.0)\n",
            "(21.0, 105.7, 21.099999999999998, 105.8)\n",
            "(21.0, 105.8, 21.099999999999998, 105.9)\n",
            "(21.0, 105.9, 21.099999999999998, 106.0)\n",
            "(21.099999999999998, 105.7, 21.2, 105.8)\n",
            "(21.099999999999998, 105.8, 21.2, 105.9)\n",
            "(21.099999999999998, 105.9, 21.2, 106.0)\n"
          ]
        }
      ]
    },
    {
      "cell_type": "code",
      "source": [
        "SERVERS = [\n",
        "    \"https://overpass.kumi.systems/api/interpreter\"\n",
        "]\n",
        "TIMEOUT = 120\n",
        "SLEEP = 1.0"
      ],
      "metadata": {
        "id": "HuWC_FCTdqJS"
      },
      "execution_count": 9,
      "outputs": []
    },
    {
      "cell_type": "code",
      "source": [
        "GITHUB_REPO = \"honganhss/OpenDataFitHou\"\n",
        "GITHUB_TOKEN = os.environ.get(\"GITHUB_TOKEN\")"
      ],
      "metadata": {
        "id": "k-SdvoBQdxjM"
      },
      "execution_count": 25,
      "outputs": []
    },
    {
      "cell_type": "code",
      "source": [
        "OUT_DIR = Path(\"opendata_hanoi\")\n",
        "PATH_IN_REPO = \"opendata_hanoi/bus_stop.geojson\"\n",
        "OUT_DIR.mkdir(exist_ok=True)"
      ],
      "metadata": {
        "id": "hhaJ1FCsf10l"
      },
      "execution_count": 22,
      "outputs": []
    },
    {
      "cell_type": "markdown",
      "source": [
        "Hàm Tiện Ích"
      ],
      "metadata": {
        "id": "HMOD6OmWgHHT"
      }
    },
    {
      "cell_type": "code",
      "source": [
        "import requests\n",
        "import base64\n",
        "from pathlib import Path\n",
        "from datetime import datetime, timezone\n",
        "\n",
        "now = datetime.now(timezone.utc).strftime(\"%Y-%m-%d %H:%M:%S UTC\")\n",
        "\n",
        "def query_overpass(q):\n",
        "    for srv in SERVERS:\n",
        "        try:\n",
        "            resp = requests.get(srv, params={\"data\": q}, timeout=TIMEOUT)\n",
        "            resp.raise_for_status()\n",
        "            return resp.json()\n",
        "        except Exception as e:\n",
        "            print(f\"⚠️ Lỗi server {srv}: {e}\")\n",
        "            time.sleep(2)\n",
        "    return {\"elements\":[]}\n",
        "\n",
        "def element_latlon(el):\n",
        "    lat, lon = el.get(\"lat\"), el.get(\"lon\")\n",
        "    if lat is None or lon is None:\n",
        "        c = el.get(\"center\") or {}\n",
        "        lat, lon = c.get(\"lat\"), c.get(\"lon\")\n",
        "    return lat, lon\n",
        "\n",
        "def push_to_github(local_file, repo=GITHUB_REPO, token=GITHUB_TOKEN, branch=\"main\"):\n",
        "    if not token:\n",
        "        print(\"❌ Chưa có GITHUB_TOKEN, bỏ qua push.\")\n",
        "        return\n",
        "    local_file = Path(local_file)\n",
        "    if not local_file.exists():\n",
        "        print(f\"❌ File {local_file} không tồn tại.\")\n",
        "        return\n",
        "\n",
        "    # Đường dẫn file trong repo\n",
        "    repo_path = f\"data/{local_file.name}\"\n",
        "\n",
        "    # Đọc file và encode base64\n",
        "    with open(local_file, \"rb\") as f:\n",
        "        content_b64 = base64.b64encode(f.read()).decode()\n",
        "\n",
        "    # GitHub API URL\n",
        "    url = f\"https://api.github.com/repos/{repo}/contents/{repo_path}\"\n",
        "\n",
        "    # Kiểm tra xem file đã tồn tại chưa để lấy sha (cần khi update)\n",
        "    headers = {\"Authorization\": f\"token {token}\"}\n",
        "    resp = requests.get(url, headers=headers, params={\"ref\": branch})\n",
        "    if resp.status_code == 200:\n",
        "        sha = resp.json()[\"sha\"]\n",
        "    else:\n",
        "        sha = None\n",
        "\n",
        "    # Commit message\n",
        "    now = datetime.utcnow().strftime(\"%Y-%m-%d %H:%M:%S UTC\")\n",
        "    message = f\"Update {local_file.name} {now}\"\n",
        "\n",
        "    data = {\n",
        "        \"message\": message,\n",
        "        \"content\": content_b64,\n",
        "        \"branch\": branch,\n",
        "    }\n",
        "    if sha:\n",
        "        data[\"sha\"] = sha  # cần khi update file đã tồn tại\n",
        "\n",
        "    # Gửi request PUT để tạo hoặc update file\n",
        "    resp = requests.put(url, headers=headers, json=data)\n",
        "    if resp.status_code in [200, 201]:\n",
        "        print(f\"✅ Đã push file {local_file.name} lên GitHub repo {repo} (branch {branch})\")\n",
        "    else:\n",
        "        print(\"❌ Lỗi khi push lên GitHub:\", resp.status_code, resp.text)"
      ],
      "metadata": {
        "id": "mnNk-YnzgGuc"
      },
      "execution_count": 26,
      "outputs": []
    },
    {
      "cell_type": "code",
      "source": [
        "!git -C repo_push config user.name \"honganhss\"\n",
        "!git -C repo_push config user.email \"honganh068204@gmail.com\"\n"
      ],
      "metadata": {
        "id": "WbuCNHGvgn9p"
      },
      "execution_count": 14,
      "outputs": []
    },
    {
      "cell_type": "code",
      "source": [
        "features = []\n",
        "seen = set()\n",
        "\n",
        "for bbox in BBOXES:\n",
        "    bbox_str = f\"({bbox[0]},{bbox[1]},{bbox[2]},{bbox[3]})\"\n",
        "    print(f\"🔍 Query bus_stop tại bbox {bbox_str}\")\n",
        "    q = f\"\"\"\n",
        "[out:json][timeout:{TIMEOUT}];\n",
        "(\n",
        "  node[\"highway\"=\"bus_stop\"]{bbox_str};\n",
        "  way[\"highway\"=\"bus_stop\"]{bbox_str};\n",
        "  relation[\"highway\"=\"bus_stop\"]{bbox_str};\n",
        ");\n",
        "out center;\n",
        "\"\"\"\n",
        "    data = query_overpass(q)\n",
        "    for el in data.get(\"elements\", []):\n",
        "        key = (el[\"type\"], el[\"id\"])\n",
        "        if key in seen:\n",
        "            continue\n",
        "        seen.add(key)\n",
        "        lat, lon = element_latlon(el)\n",
        "        if lat is None or lon is None:\n",
        "            continue\n",
        "        tags = el.get(\"tags\",{})\n",
        "        feat = {\n",
        "            \"type\":\"Feature\",\n",
        "            \"geometry\":{\"type\":\"Point\",\"coordinates\":[lon,lat]},\n",
        "            \"properties\":{\n",
        "                \"osm_id\":el[\"id\"],\n",
        "                \"osm_type\":el[\"type\"],\n",
        "                \"name\":tags.get(\"name\"),\n",
        "                \"tags\":tags\n",
        "            }\n",
        "        }\n",
        "        features.append(feat)\n",
        "    time.sleep(SLEEP)\n",
        "\n",
        "geo = {\"type\":\"FeatureCollection\",\"features\":features}\n",
        "out_file = OUT_DIR/\"bus_stop.geojson\"\n",
        "with open(out_file,\"w\",encoding=\"utf-8\") as f:\n",
        "    json.dump(geo,f,ensure_ascii=False,indent=2)\n",
        "\n",
        "print(f\"💾 Lưu {out_file} với {len(features)} điểm bus_stop\")\n"
      ],
      "metadata": {
        "colab": {
          "base_uri": "https://localhost:8080/"
        },
        "id": "HJGsFCNWgKpO",
        "outputId": "776f4462-3ae0-4605-cd62-392b7c2f5650"
      },
      "execution_count": 16,
      "outputs": [
        {
          "output_type": "stream",
          "name": "stdout",
          "text": [
            "🔍 Query bus_stop tại bbox (20.9,105.7,21.0,105.8)\n",
            "🔍 Query bus_stop tại bbox (20.9,105.8,21.0,105.9)\n",
            "🔍 Query bus_stop tại bbox (20.9,105.9,21.0,106.0)\n",
            "🔍 Query bus_stop tại bbox (21.0,105.7,21.099999999999998,105.8)\n",
            "🔍 Query bus_stop tại bbox (21.0,105.8,21.099999999999998,105.9)\n",
            "🔍 Query bus_stop tại bbox (21.0,105.9,21.099999999999998,106.0)\n",
            "🔍 Query bus_stop tại bbox (21.099999999999998,105.7,21.2,105.8)\n",
            "🔍 Query bus_stop tại bbox (21.099999999999998,105.8,21.2,105.9)\n",
            "🔍 Query bus_stop tại bbox (21.099999999999998,105.9,21.2,106.0)\n",
            "💾 Lưu opendata_hanoi/bus_stop.geojson với 2749 điểm bus_stop\n"
          ]
        }
      ]
    },
    {
      "cell_type": "code",
      "source": [
        "from IPython.display import FileLink\n",
        "\n",
        "display(FileLink(out_file))\n"
      ],
      "metadata": {
        "colab": {
          "base_uri": "https://localhost:8080/",
          "height": 34
        },
        "id": "uEgNvpPHi6zM",
        "outputId": "a055627b-eb71-4a28-aa2a-4f59a0ad3873"
      },
      "execution_count": 21,
      "outputs": [
        {
          "output_type": "display_data",
          "data": {
            "text/plain": [
              "/content/opendata_hanoi/bus_stop.geojson"
            ],
            "text/html": [
              "<a href='opendata_hanoi/bus_stop.geojson' target='_blank'>opendata_hanoi/bus_stop.geojson</a><br>"
            ]
          },
          "metadata": {}
        }
      ]
    },
    {
      "cell_type": "code",
      "source": [
        "# Push lên GitHub\n",
        "push_to_github(out_file)"
      ],
      "metadata": {
        "colab": {
          "base_uri": "https://localhost:8080/"
        },
        "id": "aUYdR34WhJ6Z",
        "outputId": "582cd228-f024-42cc-82c6-ebd5726d3adb"
      },
      "execution_count": 27,
      "outputs": [
        {
          "output_type": "stream",
          "name": "stderr",
          "text": [
            "/tmp/ipython-input-1839916761.py:54: DeprecationWarning: datetime.datetime.utcnow() is deprecated and scheduled for removal in a future version. Use timezone-aware objects to represent datetimes in UTC: datetime.datetime.now(datetime.UTC).\n",
            "  now = datetime.utcnow().strftime(\"%Y-%m-%d %H:%M:%S UTC\")\n"
          ]
        },
        {
          "output_type": "stream",
          "name": "stdout",
          "text": [
            "✅ Đã push file bus_stop.geojson lên GitHub repo honganhss/OpenDataFitHou (branch main)\n"
          ]
        }
      ]
    },
    {
      "cell_type": "code",
      "source": [
        "features = []\n",
        "seen = set()\n",
        "\n",
        "for bbox in BBOXES:\n",
        "    bbox_str = f\"({bbox[0]},{bbox[1]},{bbox[2]},{bbox[3]})\"\n",
        "    print(f\"🔍 Query sân chơi tại bbox {bbox_str}\")\n",
        "    q = f\"\"\"\n",
        "[out:json][timeout:{TIMEOUT}];\n",
        "(\n",
        "  node[\"leisure\"=\"playground\"]{bbox_str};\n",
        "  way[\"leisure\"=\"playground\"]{bbox_str};\n",
        "  relation[\"leisure\"=\"playground\"]{bbox_str};\n",
        ");\n",
        "out center;\n",
        "\"\"\"\n",
        "    data = query_overpass(q)\n",
        "    for el in data.get(\"elements\", []):\n",
        "        key = (el[\"type\"], el[\"id\"])\n",
        "        if key in seen:\n",
        "            continue\n",
        "        seen.add(key)\n",
        "        lat, lon = element_latlon(el)\n",
        "        if lat is None or lon is None:\n",
        "            continue\n",
        "        tags = el.get(\"tags\",{})\n",
        "        feat = {\n",
        "            \"type\":\"Feature\",\n",
        "            \"geometry\":{\"type\":\"Point\",\"coordinates\":[lon,lat]},\n",
        "            \"properties\":{\n",
        "                \"osm_id\":el[\"id\"],\n",
        "                \"osm_type\":el[\"type\"],\n",
        "                \"name\":tags.get(\"name\"),\n",
        "                \"tags\":tags\n",
        "            }\n",
        "        }\n",
        "        features.append(feat)\n",
        "    time.sleep(SLEEP)\n",
        "\n",
        "geo = {\"type\":\"FeatureCollection\",\"features\":features}\n",
        "out_file = OUT_DIR/\"playground.geojson\"\n",
        "with open(out_file,\"w\",encoding=\"utf-8\") as f:\n",
        "    json.dump(geo,f,ensure_ascii=False,indent=2)\n",
        "\n",
        "print(f\"💾 Lưu {out_file} với {len(features)} sân chơi.\")\n"
      ],
      "metadata": {
        "colab": {
          "base_uri": "https://localhost:8080/"
        },
        "id": "Khi_zsNj0vbt",
        "outputId": "c7185c81-8bea-4862-a37a-e7e2f83ca588"
      },
      "execution_count": 29,
      "outputs": [
        {
          "output_type": "stream",
          "name": "stdout",
          "text": [
            "🔍 Query sân chơi tại bbox (20.9,105.7,21.0,105.8)\n",
            "🔍 Query sân chơi tại bbox (20.9,105.8,21.0,105.9)\n",
            "⚠️ Lỗi server https://overpass.kumi.systems/api/interpreter: Expecting value: line 1 column 1 (char 0)\n",
            "🔍 Query sân chơi tại bbox (20.9,105.9,21.0,106.0)\n",
            "🔍 Query sân chơi tại bbox (21.0,105.7,21.099999999999998,105.8)\n",
            "🔍 Query sân chơi tại bbox (21.0,105.8,21.099999999999998,105.9)\n",
            "🔍 Query sân chơi tại bbox (21.0,105.9,21.099999999999998,106.0)\n",
            "🔍 Query sân chơi tại bbox (21.099999999999998,105.7,21.2,105.8)\n",
            "⚠️ Lỗi server https://overpass.kumi.systems/api/interpreter: Expecting value: line 1 column 1 (char 0)\n",
            "🔍 Query sân chơi tại bbox (21.099999999999998,105.8,21.2,105.9)\n",
            "🔍 Query sân chơi tại bbox (21.099999999999998,105.9,21.2,106.0)\n",
            "💾 Lưu opendata_hanoi/playground.geojson với 136 sân chơi.\n"
          ]
        }
      ]
    },
    {
      "cell_type": "code",
      "source": [
        "# Push lên GitHub\n",
        "push_to_github(out_file)"
      ],
      "metadata": {
        "colab": {
          "base_uri": "https://localhost:8080/"
        },
        "id": "UqKZf6n229Dd",
        "outputId": "8eb1eef9-89d5-498d-8848-848c3fef9803"
      },
      "execution_count": 30,
      "outputs": [
        {
          "output_type": "stream",
          "name": "stderr",
          "text": [
            "/tmp/ipython-input-1839916761.py:54: DeprecationWarning: datetime.datetime.utcnow() is deprecated and scheduled for removal in a future version. Use timezone-aware objects to represent datetimes in UTC: datetime.datetime.now(datetime.UTC).\n",
            "  now = datetime.utcnow().strftime(\"%Y-%m-%d %H:%M:%S UTC\")\n"
          ]
        },
        {
          "output_type": "stream",
          "name": "stdout",
          "text": [
            "✅ Đã push file playground.geojson lên GitHub repo honganhss/OpenDataFitHou (branch main)\n"
          ]
        }
      ]
    },
    {
      "cell_type": "code",
      "source": [
        "features = []\n",
        "seen = set()\n",
        "\n",
        "for bbox in BBOXES:\n",
        "    bbox_str = f\"({bbox[0]},{bbox[1]},{bbox[2]},{bbox[3]})\"\n",
        "    print(f\"🔍 Query toilets công cộng tại bbox {bbox_str}\")\n",
        "    q = f\"\"\"\n",
        "[out:json][timeout:{TIMEOUT}];\n",
        "(\n",
        "  node[\"amenity\"=\"toilets\"]{bbox_str};\n",
        "  way[\"amenity\"=\"toilets\"]{bbox_str};\n",
        "  relation[\"amenity\"=\"toilets\"]{bbox_str};\n",
        ");\n",
        "out center;\n",
        "\"\"\"\n",
        "    data = query_overpass(q)\n",
        "    for el in data.get(\"elements\", []):\n",
        "        key = (el[\"type\"], el[\"id\"])\n",
        "        if key in seen:\n",
        "            continue\n",
        "        seen.add(key)\n",
        "        lat, lon = element_latlon(el)\n",
        "        if lat is None or lon is None:\n",
        "            continue\n",
        "        tags = el.get(\"tags\",{})\n",
        "        feat = {\n",
        "            \"type\":\"Feature\",\n",
        "            \"geometry\":{\"type\":\"Point\",\"coordinates\":[lon,lat]},\n",
        "            \"properties\":{\n",
        "                \"osm_id\":el[\"id\"],\n",
        "                \"osm_type\":el[\"type\"],\n",
        "                \"name\":tags.get(\"name\"),\n",
        "                \"tags\":tags\n",
        "            }\n",
        "        }\n",
        "        features.append(feat)\n",
        "    time.sleep(SLEEP)\n",
        "\n",
        "geo = {\"type\":\"FeatureCollection\",\"features\":features}\n",
        "out_file = OUT_DIR/\"toilets.geojson\"\n",
        "with open(out_file,\"w\",encoding=\"utf-8\") as f:\n",
        "    json.dump(geo,f,ensure_ascii=False,indent=2)\n",
        "\n",
        "print(f\"💾 Lưu {out_file} với {len(features)} toilets.\")\n"
      ],
      "metadata": {
        "colab": {
          "base_uri": "https://localhost:8080/"
        },
        "id": "VlikqTnP4fRP",
        "outputId": "a2177c03-98e0-451d-d514-c603e3ab2115"
      },
      "execution_count": 31,
      "outputs": [
        {
          "output_type": "stream",
          "name": "stdout",
          "text": [
            "🔍 Query toilets công cộng tại bbox (20.9,105.7,21.0,105.8)\n",
            "🔍 Query toilets công cộng tại bbox (20.9,105.8,21.0,105.9)\n",
            "⚠️ Lỗi server https://overpass.kumi.systems/api/interpreter: Expecting value: line 1 column 1 (char 0)\n",
            "🔍 Query toilets công cộng tại bbox (20.9,105.9,21.0,106.0)\n",
            "🔍 Query toilets công cộng tại bbox (21.0,105.7,21.099999999999998,105.8)\n",
            "🔍 Query toilets công cộng tại bbox (21.0,105.8,21.099999999999998,105.9)\n",
            "🔍 Query toilets công cộng tại bbox (21.0,105.9,21.099999999999998,106.0)\n",
            "🔍 Query toilets công cộng tại bbox (21.099999999999998,105.7,21.2,105.8)\n",
            "🔍 Query toilets công cộng tại bbox (21.099999999999998,105.8,21.2,105.9)\n",
            "🔍 Query toilets công cộng tại bbox (21.099999999999998,105.9,21.2,106.0)\n",
            "💾 Lưu opendata_hanoi/toilets.geojson với 141 toilets.\n"
          ]
        }
      ]
    },
    {
      "cell_type": "code",
      "source": [
        "# Push lên GitHub\n",
        "push_to_github(out_file)"
      ],
      "metadata": {
        "colab": {
          "base_uri": "https://localhost:8080/"
        },
        "id": "o9gOG7Aw42t2",
        "outputId": "e0b7e08e-fd7c-45d6-b3d9-b6ec10b2435c"
      },
      "execution_count": 32,
      "outputs": [
        {
          "output_type": "stream",
          "name": "stderr",
          "text": [
            "/tmp/ipython-input-1839916761.py:54: DeprecationWarning: datetime.datetime.utcnow() is deprecated and scheduled for removal in a future version. Use timezone-aware objects to represent datetimes in UTC: datetime.datetime.now(datetime.UTC).\n",
            "  now = datetime.utcnow().strftime(\"%Y-%m-%d %H:%M:%S UTC\")\n"
          ]
        },
        {
          "output_type": "stream",
          "name": "stdout",
          "text": [
            "✅ Đã push file toilets.geojson lên GitHub repo honganhss/OpenDataFitHou (branch main)\n"
          ]
        }
      ]
    },
    {
      "cell_type": "code",
      "source": [
        "features = []\n",
        "seen = set()\n",
        "\n",
        "for bbox in BBOXES:\n",
        "    bbox_str = f\"({bbox[0]},{bbox[1]},{bbox[2]},{bbox[3]})\"\n",
        "    print(f\"🔍 Query atm tại bbox {bbox_str}\")\n",
        "    q = f\"\"\"\n",
        "[out:json][timeout:{TIMEOUT}];\n",
        "(\n",
        "  node[\"amenity\"=\"atm\"]{bbox_str};\n",
        "  way[\"amenity\"=\"atm\"]{bbox_str};\n",
        "  relation[\"amenity\"=\"atm\"]{bbox_str};\n",
        ");\n",
        "out center;\n",
        "\"\"\"\n",
        "    data = query_overpass(q)\n",
        "    for el in data.get(\"elements\", []):\n",
        "        key = (el[\"type\"], el[\"id\"])\n",
        "        if key in seen:\n",
        "            continue\n",
        "        seen.add(key)\n",
        "        lat, lon = element_latlon(el)\n",
        "        if lat is None or lon is None:\n",
        "            continue\n",
        "        tags = el.get(\"tags\",{})\n",
        "        feat = {\n",
        "            \"type\":\"Feature\",\n",
        "            \"geometry\":{\"type\":\"Point\",\"coordinates\":[lon,lat]},\n",
        "            \"properties\":{\n",
        "                \"osm_id\":el[\"id\"],\n",
        "                \"osm_type\":el[\"type\"],\n",
        "                \"name\":tags.get(\"name\"),\n",
        "                \"tags\":tags\n",
        "            }\n",
        "        }\n",
        "        features.append(feat)\n",
        "    time.sleep(SLEEP)\n",
        "\n",
        "geo = {\"type\":\"FeatureCollection\",\"features\":features}\n",
        "out_file = OUT_DIR/\"atm.geojson\"\n",
        "with open(out_file,\"w\",encoding=\"utf-8\") as f:\n",
        "    json.dump(geo,f,ensure_ascii=False,indent=2)\n",
        "\n",
        "print(f\"💾 Lưu {out_file} với {len(features)} atm.\")\n"
      ],
      "metadata": {
        "colab": {
          "base_uri": "https://localhost:8080/"
        },
        "id": "rU8Zf9zT5C4I",
        "outputId": "a0eebd6c-3a31-41eb-c2f4-921065856759"
      },
      "execution_count": 33,
      "outputs": [
        {
          "output_type": "stream",
          "name": "stdout",
          "text": [
            "🔍 Query atm tại bbox (20.9,105.7,21.0,105.8)\n",
            "🔍 Query atm tại bbox (20.9,105.8,21.0,105.9)\n",
            "🔍 Query atm tại bbox (20.9,105.9,21.0,106.0)\n",
            "🔍 Query atm tại bbox (21.0,105.7,21.099999999999998,105.8)\n",
            "🔍 Query atm tại bbox (21.0,105.8,21.099999999999998,105.9)\n",
            "🔍 Query atm tại bbox (21.0,105.9,21.099999999999998,106.0)\n",
            "🔍 Query atm tại bbox (21.099999999999998,105.7,21.2,105.8)\n",
            "🔍 Query atm tại bbox (21.099999999999998,105.8,21.2,105.9)\n",
            "🔍 Query atm tại bbox (21.099999999999998,105.9,21.2,106.0)\n",
            "💾 Lưu opendata_hanoi/atm.geojson với 1416 atm.\n"
          ]
        }
      ]
    },
    {
      "cell_type": "code",
      "source": [
        "# Push lên GitHub\n",
        "push_to_github(out_file)"
      ],
      "metadata": {
        "colab": {
          "base_uri": "https://localhost:8080/"
        },
        "id": "zZE9ZW235Lyy",
        "outputId": "5e120b0b-b1d6-4f95-a469-35cad1327cab"
      },
      "execution_count": 34,
      "outputs": [
        {
          "output_type": "stream",
          "name": "stderr",
          "text": [
            "/tmp/ipython-input-1839916761.py:54: DeprecationWarning: datetime.datetime.utcnow() is deprecated and scheduled for removal in a future version. Use timezone-aware objects to represent datetimes in UTC: datetime.datetime.now(datetime.UTC).\n",
            "  now = datetime.utcnow().strftime(\"%Y-%m-%d %H:%M:%S UTC\")\n"
          ]
        },
        {
          "output_type": "stream",
          "name": "stdout",
          "text": [
            "✅ Đã push file atm.geojson lên GitHub repo honganhss/OpenDataFitHou (branch main)\n"
          ]
        }
      ]
    },
    {
      "cell_type": "code",
      "source": [
        "features = []\n",
        "seen = set()\n",
        "\n",
        "for bbox in BBOXES:\n",
        "    bbox_str = f\"({bbox[0]},{bbox[1]},{bbox[2]},{bbox[3]})\"\n",
        "    print(f\"🔍 Query drinking_water tại bbox {bbox_str}\")\n",
        "    q = f\"\"\"\n",
        "[out:json][timeout:{TIMEOUT}];\n",
        "(\n",
        "  node[\"amenity\"=\"drinking_water\"]{bbox_str};\n",
        "  way[\"amenity\"=\"drinking_water\"]{bbox_str};\n",
        "  relation[\"amenity\"=\"drinking_water\"]{bbox_str};\n",
        ");\n",
        "out center;\n",
        "\"\"\"\n",
        "    data = query_overpass(q)\n",
        "    for el in data.get(\"elements\", []):\n",
        "        key = (el[\"type\"], el[\"id\"])\n",
        "        if key in seen:\n",
        "            continue\n",
        "        seen.add(key)\n",
        "        lat, lon = element_latlon(el)\n",
        "        if lat is None or lon is None:\n",
        "            continue\n",
        "        tags = el.get(\"tags\",{})\n",
        "        feat = {\n",
        "            \"type\":\"Feature\",\n",
        "            \"geometry\":{\"type\":\"Point\",\"coordinates\":[lon,lat]},\n",
        "            \"properties\":{\n",
        "                \"osm_id\":el[\"id\"],\n",
        "                \"osm_type\":el[\"type\"],\n",
        "                \"name\":tags.get(\"name\"),\n",
        "                \"tags\":tags\n",
        "            }\n",
        "        }\n",
        "        features.append(feat)\n",
        "    time.sleep(SLEEP)\n",
        "\n",
        "geo = {\"type\":\"FeatureCollection\",\"features\":features}\n",
        "out_file = OUT_DIR/\"drinking_water.geojson\"\n",
        "with open(out_file,\"w\",encoding=\"utf-8\") as f:\n",
        "    json.dump(geo,f,ensure_ascii=False,indent=2)\n",
        "\n",
        "print(f\"💾 Lưu {out_file} với {len(features)} drinking_water.\")\n"
      ],
      "metadata": {
        "colab": {
          "base_uri": "https://localhost:8080/"
        },
        "id": "hHxJdVoB5N80",
        "outputId": "cf0c4af7-63ea-42ae-d63a-916f71047afc"
      },
      "execution_count": 35,
      "outputs": [
        {
          "output_type": "stream",
          "name": "stdout",
          "text": [
            "🔍 Query drinking_water tại bbox (20.9,105.7,21.0,105.8)\n",
            "🔍 Query drinking_water tại bbox (20.9,105.8,21.0,105.9)\n",
            "🔍 Query drinking_water tại bbox (20.9,105.9,21.0,106.0)\n",
            "🔍 Query drinking_water tại bbox (21.0,105.7,21.099999999999998,105.8)\n",
            "🔍 Query drinking_water tại bbox (21.0,105.8,21.099999999999998,105.9)\n",
            "🔍 Query drinking_water tại bbox (21.0,105.9,21.099999999999998,106.0)\n",
            "🔍 Query drinking_water tại bbox (21.099999999999998,105.7,21.2,105.8)\n",
            "🔍 Query drinking_water tại bbox (21.099999999999998,105.8,21.2,105.9)\n",
            "🔍 Query drinking_water tại bbox (21.099999999999998,105.9,21.2,106.0)\n",
            "💾 Lưu opendata_hanoi/drinking_water.geojson với 19 drinking_water.\n"
          ]
        }
      ]
    },
    {
      "cell_type": "code",
      "source": [
        "# Push lên GitHub\n",
        "push_to_github(out_file)"
      ],
      "metadata": {
        "colab": {
          "base_uri": "https://localhost:8080/"
        },
        "id": "BypU8mkB5gCj",
        "outputId": "7c621f58-e463-4327-da2d-e5cb0b42a708"
      },
      "execution_count": 36,
      "outputs": [
        {
          "output_type": "stream",
          "name": "stderr",
          "text": [
            "/tmp/ipython-input-1839916761.py:54: DeprecationWarning: datetime.datetime.utcnow() is deprecated and scheduled for removal in a future version. Use timezone-aware objects to represent datetimes in UTC: datetime.datetime.now(datetime.UTC).\n",
            "  now = datetime.utcnow().strftime(\"%Y-%m-%d %H:%M:%S UTC\")\n"
          ]
        },
        {
          "output_type": "stream",
          "name": "stdout",
          "text": [
            "✅ Đã push file drinking_water.geojson lên GitHub repo honganhss/OpenDataFitHou (branch main)\n"
          ]
        }
      ]
    },
    {
      "cell_type": "code",
      "source": [
        "features = []\n",
        "seen = set()\n",
        "\n",
        "for bbox in BBOXES:\n",
        "    bbox_str = f\"({bbox[0]},{bbox[1]},{bbox[2]},{bbox[3]})\"\n",
        "    print(f\"🔍 Query hospital tại bbox {bbox_str}\")\n",
        "    q = f\"\"\"\n",
        "[out:json][timeout:{TIMEOUT}];\n",
        "(\n",
        "  node[\"amenity\"=\"hospital\"]{bbox_str};\n",
        "  way[\"amenity\"=\"hospital\"]{bbox_str};\n",
        "  relation[\"amenity\"=\"hospital\"]{bbox_str};\n",
        ");\n",
        "out center;\n",
        "\"\"\"\n",
        "    data = query_overpass(q)\n",
        "    for el in data.get(\"elements\", []):\n",
        "        key = (el[\"type\"], el[\"id\"])\n",
        "        if key in seen:\n",
        "            continue\n",
        "        seen.add(key)\n",
        "        lat, lon = element_latlon(el)\n",
        "        if lat is None or lon is None:\n",
        "            continue\n",
        "        tags = el.get(\"tags\",{})\n",
        "        feat = {\n",
        "            \"type\":\"Feature\",\n",
        "            \"geometry\":{\"type\":\"Point\",\"coordinates\":[lon,lat]},\n",
        "            \"properties\":{\n",
        "                \"osm_id\":el[\"id\"],\n",
        "                \"osm_type\":el[\"type\"],\n",
        "                \"name\":tags.get(\"name\"),\n",
        "                \"tags\":tags\n",
        "            }\n",
        "        }\n",
        "        features.append(feat)\n",
        "    time.sleep(SLEEP)\n",
        "\n",
        "geo = {\"type\":\"FeatureCollection\",\"features\":features}\n",
        "out_file = OUT_DIR/\"hospital.geojson\"\n",
        "with open(out_file,\"w\",encoding=\"utf-8\") as f:\n",
        "    json.dump(geo,f,ensure_ascii=False,indent=2)\n",
        "\n",
        "print(f\"💾 Lưu {out_file} với {len(features)} hospital.\")\n"
      ],
      "metadata": {
        "colab": {
          "base_uri": "https://localhost:8080/"
        },
        "id": "TKy7tGOY6JTK",
        "outputId": "61672ccb-cc3f-4bbf-c475-56f52e2a13e3"
      },
      "execution_count": 37,
      "outputs": [
        {
          "output_type": "stream",
          "name": "stdout",
          "text": [
            "🔍 Query hospital tại bbox (20.9,105.7,21.0,105.8)\n",
            "🔍 Query hospital tại bbox (20.9,105.8,21.0,105.9)\n",
            "🔍 Query hospital tại bbox (20.9,105.9,21.0,106.0)\n",
            "🔍 Query hospital tại bbox (21.0,105.7,21.099999999999998,105.8)\n",
            "🔍 Query hospital tại bbox (21.0,105.8,21.099999999999998,105.9)\n",
            "🔍 Query hospital tại bbox (21.0,105.9,21.099999999999998,106.0)\n",
            "🔍 Query hospital tại bbox (21.099999999999998,105.7,21.2,105.8)\n",
            "⚠️ Lỗi server https://overpass.kumi.systems/api/interpreter: Expecting value: line 1 column 1 (char 0)\n",
            "🔍 Query hospital tại bbox (21.099999999999998,105.8,21.2,105.9)\n",
            "🔍 Query hospital tại bbox (21.099999999999998,105.9,21.2,106.0)\n",
            "💾 Lưu opendata_hanoi/hospital.geojson với 157 hospital.\n"
          ]
        }
      ]
    },
    {
      "cell_type": "code",
      "source": [
        "# Push lên GitHub\n",
        "push_to_github(out_file)"
      ],
      "metadata": {
        "colab": {
          "base_uri": "https://localhost:8080/"
        },
        "id": "bjnKwG6Z6Vmq",
        "outputId": "3c4a0015-c5c9-41b7-ddc3-b947b277e507"
      },
      "execution_count": 38,
      "outputs": [
        {
          "output_type": "stream",
          "name": "stderr",
          "text": [
            "/tmp/ipython-input-1839916761.py:54: DeprecationWarning: datetime.datetime.utcnow() is deprecated and scheduled for removal in a future version. Use timezone-aware objects to represent datetimes in UTC: datetime.datetime.now(datetime.UTC).\n",
            "  now = datetime.utcnow().strftime(\"%Y-%m-%d %H:%M:%S UTC\")\n"
          ]
        },
        {
          "output_type": "stream",
          "name": "stdout",
          "text": [
            "✅ Đã push file hospital.geojson lên GitHub repo honganhss/OpenDataFitHou (branch main)\n"
          ]
        }
      ]
    },
    {
      "cell_type": "code",
      "source": [
        "features = []\n",
        "seen = set()\n",
        "\n",
        "for bbox in BBOXES:\n",
        "    bbox_str = f\"({bbox[0]},{bbox[1]},{bbox[2]},{bbox[3]})\"\n",
        "    print(f\"🔍 Query school tại bbox {bbox_str}\")\n",
        "    q = f\"\"\"\n",
        "[out:json][timeout:{TIMEOUT}];\n",
        "(\n",
        "  node[\"amenity\"=\"school\"]{bbox_str};\n",
        "  way[\"amenity\"=\"school\"]{bbox_str};\n",
        "  relation[\"amenity\"=\"school\"]{bbox_str};\n",
        ");\n",
        "out center;\n",
        "\"\"\"\n",
        "    data = query_overpass(q)\n",
        "    for el in data.get(\"elements\", []):\n",
        "        key = (el[\"type\"], el[\"id\"])\n",
        "        if key in seen:\n",
        "            continue\n",
        "        seen.add(key)\n",
        "        lat, lon = element_latlon(el)\n",
        "        if lat is None or lon is None:\n",
        "            continue\n",
        "        tags = el.get(\"tags\",{})\n",
        "        feat = {\n",
        "            \"type\":\"Feature\",\n",
        "            \"geometry\":{\"type\":\"Point\",\"coordinates\":[lon,lat]},\n",
        "            \"properties\":{\n",
        "                \"osm_id\":el[\"id\"],\n",
        "                \"osm_type\":el[\"type\"],\n",
        "                \"name\":tags.get(\"name\"),\n",
        "                \"tags\":tags\n",
        "            }\n",
        "        }\n",
        "        features.append(feat)\n",
        "    time.sleep(SLEEP)\n",
        "\n",
        "geo = {\"type\":\"FeatureCollection\",\"features\":features}\n",
        "out_file = OUT_DIR/\"school.geojson\"\n",
        "with open(out_file,\"w\",encoding=\"utf-8\") as f:\n",
        "    json.dump(geo,f,ensure_ascii=False,indent=2)\n",
        "\n",
        "print(f\"💾 Lưu {out_file} với {len(features)} school.\")\n"
      ],
      "metadata": {
        "colab": {
          "base_uri": "https://localhost:8080/"
        },
        "id": "KG-gO8BQ6WUg",
        "outputId": "3494feb6-ee3c-4446-8998-974d0947ddec"
      },
      "execution_count": 39,
      "outputs": [
        {
          "output_type": "stream",
          "name": "stdout",
          "text": [
            "🔍 Query school tại bbox (20.9,105.7,21.0,105.8)\n",
            "🔍 Query school tại bbox (20.9,105.8,21.0,105.9)\n",
            "🔍 Query school tại bbox (20.9,105.9,21.0,106.0)\n",
            "🔍 Query school tại bbox (21.0,105.7,21.099999999999998,105.8)\n",
            "🔍 Query school tại bbox (21.0,105.8,21.099999999999998,105.9)\n",
            "🔍 Query school tại bbox (21.0,105.9,21.099999999999998,106.0)\n",
            "🔍 Query school tại bbox (21.099999999999998,105.7,21.2,105.8)\n",
            "🔍 Query school tại bbox (21.099999999999998,105.8,21.2,105.9)\n",
            "🔍 Query school tại bbox (21.099999999999998,105.9,21.2,106.0)\n",
            "💾 Lưu opendata_hanoi/school.geojson với 1038 school.\n"
          ]
        }
      ]
    },
    {
      "cell_type": "code",
      "source": [
        "# Push lên GitHub\n",
        "push_to_github(out_file)"
      ],
      "metadata": {
        "colab": {
          "base_uri": "https://localhost:8080/"
        },
        "id": "j1cM5Hc96f8x",
        "outputId": "f88521e2-ea86-49b0-a883-3d78da0f70bd"
      },
      "execution_count": 40,
      "outputs": [
        {
          "output_type": "stream",
          "name": "stderr",
          "text": [
            "/tmp/ipython-input-1839916761.py:54: DeprecationWarning: datetime.datetime.utcnow() is deprecated and scheduled for removal in a future version. Use timezone-aware objects to represent datetimes in UTC: datetime.datetime.now(datetime.UTC).\n",
            "  now = datetime.utcnow().strftime(\"%Y-%m-%d %H:%M:%S UTC\")\n"
          ]
        },
        {
          "output_type": "stream",
          "name": "stdout",
          "text": [
            "✅ Đã push file school.geojson lên GitHub repo honganhss/OpenDataFitHou (branch main)\n"
          ]
        }
      ]
    },
    {
      "cell_type": "code",
      "source": [
        "# Get the path of the current notebook\n",
        "notebook_path = !echo \"$PWD\"/*.ipynb\n",
        "if notebook_path:\n",
        "    notebook_file = Path(notebook_path[0])\n",
        "    print(f\"🔍 Found notebook: {notebook_file}\")\n",
        "    # Push the notebook to GitHub\n",
        "    push_to_github(notebook_file)\n",
        "else:\n",
        "    print(\"❌ Could not find the notebook file.\")"
      ],
      "metadata": {
        "colab": {
          "base_uri": "https://localhost:8080/"
        },
        "id": "RsGpgasW93DB",
        "outputId": "924004cd-87a5-4ed4-ff7b-becc59d6fadc"
      },
      "execution_count": 41,
      "outputs": [
        {
          "output_type": "stream",
          "name": "stdout",
          "text": [
            "🔍 Found notebook: /content/*.ipynb\n",
            "❌ File /content/*.ipynb không tồn tại.\n"
          ]
        }
      ]
    }
  ]
}