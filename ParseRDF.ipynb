{
  "nbformat": 4,
  "nbformat_minor": 0,
  "metadata": {
    "colab": {
      "provenance": [],
      "authorship_tag": "ABX9TyPwLCe1BSqAlQtRXFiIg4ko",
      "include_colab_link": true
    },
    "kernelspec": {
      "name": "python3",
      "display_name": "Python 3"
    },
    "language_info": {
      "name": "python"
    }
  },
  "cells": [
    {
      "cell_type": "markdown",
      "metadata": {
        "id": "view-in-github",
        "colab_type": "text"
      },
      "source": [
        "<a href=\"https://colab.research.google.com/github/honganhss/OpenDataFitHou/blob/main/ParseRDF.ipynb\" target=\"_parent\"><img src=\"https://colab.research.google.com/assets/colab-badge.svg\" alt=\"Open In Colab\"/></a>"
      ]
    },
    {
      "cell_type": "code",
      "execution_count": null,
      "metadata": {
        "colab": {
          "base_uri": "https://localhost:8080/"
        },
        "id": "8aGxKWuDE-wD",
        "outputId": "65196c21-3183-4191-bdc4-69fe481fb9ba"
      },
      "outputs": [
        {
          "output_type": "stream",
          "name": "stdout",
          "text": [
            "Collecting rdflib\n",
            "  Downloading rdflib-7.2.1-py3-none-any.whl.metadata (11 kB)\n",
            "Requirement already satisfied: pyparsing<4,>=2.1.0 in /usr/local/lib/python3.12/dist-packages (from rdflib) (3.2.4)\n",
            "Downloading rdflib-7.2.1-py3-none-any.whl (565 kB)\n",
            "\u001b[2K   \u001b[90m━━━━━━━━━━━━━━━━━━━━━━━━━━━━━━━━━━━━━━━━\u001b[0m \u001b[32m565.4/565.4 kB\u001b[0m \u001b[31m7.9 MB/s\u001b[0m eta \u001b[36m0:00:00\u001b[0m\n",
            "\u001b[?25hInstalling collected packages: rdflib\n",
            "Successfully installed rdflib-7.2.1\n"
          ]
        }
      ],
      "source": [
        "pip install rdflib\n"
      ]
    },
    {
      "cell_type": "code",
      "source": [
        "from google.colab import userdata\n",
        "\n",
        "# Lấy giá trị secret\n",
        "GITHUB_TOKEN = userdata.get('GITHUB_TOKEN')\n",
        "\n",
        "# Kiểm tra xem đã lấy được chưa\n",
        "if GITHUB_TOKEN:\n",
        "    print(\"✅ Đã lấy token, độ dài:\", len(GITHUB_TOKEN))\n",
        "else:\n",
        "    print(\"❌ Không tìm thấy token\")\n"
      ],
      "metadata": {
        "colab": {
          "base_uri": "https://localhost:8080/"
        },
        "id": "kd4Pco8iF4JX",
        "outputId": "e9bef642-9328-458f-c6d5-714586c113f0"
      },
      "execution_count": null,
      "outputs": [
        {
          "output_type": "stream",
          "name": "stdout",
          "text": [
            "✅ Đã lấy token, độ dài: 40\n"
          ]
        }
      ]
    },
    {
      "cell_type": "code",
      "source": [
        "import os\n",
        "import requests\n",
        "import base64\n",
        "import json\n",
        "\n",
        "GITHUB_USER = \"honganhss\"\n",
        "GITHUB_REPO = \"OpenDataFitHou\"\n",
        "FILE_PATH = \"data/playground.geojson\"\n",
        "BRANCH = \"main\"\n",
        "GITHUB_TOKEN = os.environ['GITHUB_TOKEN']\n",
        "\n",
        "url = f\"https://api.github.com/repos/{GITHUB_USER}/{GITHUB_REPO}/contents/{FILE_PATH}?ref={BRANCH}\"\n",
        "\n",
        "headers = {\n",
        "    \"Authorization\": f\"token {GITHUB_TOKEN}\",\n",
        "    \"Accept\": \"application/vnd.github.v3+json\"\n",
        "}\n",
        "\n",
        "response = requests.get(url, headers=headers)\n",
        "\n",
        "if response.status_code == 200:\n",
        "    data = response.json()\n",
        "    file_content = base64.b64decode(data['content']).decode('utf-8')\n",
        "    geojson_data = json.loads(file_content)\n",
        "    print(\"✅ Lấy thành công, số feature:\", len(geojson_data.get(\"features\", [])))\n",
        "else:\n",
        "    print(\"❌ Lỗi:\", response.status_code, response.text)\n"
      ],
      "metadata": {
        "id": "QdN5LNQxHpWh",
        "colab": {
          "base_uri": "https://localhost:8080/"
        },
        "outputId": "7e40c0e7-ea28-44e6-f9c6-d28e80d0d10c"
      },
      "execution_count": null,
      "outputs": [
        {
          "output_type": "stream",
          "name": "stdout",
          "text": [
            "✅ Lấy thành công, số feature: 136\n"
          ]
        }
      ]
    },
    {
      "cell_type": "code",
      "source": [
        "from rdflib import Graph, Literal, RDF, URIRef, Namespace, RDFS\n",
        "\n",
        "GEO = Namespace(\"http://www.opendatafithou.net/ont/geosparql#\")\n",
        "EX = Namespace(\"http://opendatafithou.org/playground/\")\n",
        "\n",
        "g = Graph()\n",
        "g.bind(\"geo\", GEO)\n",
        "g.bind(\"ex\", EX)\n",
        "\n",
        "for feature in geojson_data.get(\"features\", []):\n",
        "    props = feature.get(\"properties\", {})\n",
        "    osm_id = props.get(\"osm_id\")\n",
        "    if not osm_id:\n",
        "        continue\n",
        "    subject = EX[str(osm_id)]\n",
        "\n",
        "    name = props.get(\"name\") or props.get(\"tags\", {}).get(\"name\")\n",
        "    if name:\n",
        "        g.add((subject, RDFS.label, Literal(name)))\n",
        "\n",
        "    # Các tag khác\n",
        "    tags = props.get(\"tags\", {})\n",
        "    for k, v in tags.items():\n",
        "        if k != \"name\":\n",
        "            g.add((subject, EX[k], Literal(v)))\n",
        "\n",
        "    # Geometry\n",
        "    geom = feature.get(\"geometry\")\n",
        "    if geom:\n",
        "        geom_uri = URIRef(str(subject) + \"/geometry\")\n",
        "        g.add((geom_uri, RDF.type, GEO[geom[\"type\"]]))\n",
        "        coords = geom[\"coordinates\"]\n",
        "        if geom[\"type\"] == \"Point\":\n",
        "            wkt = f\"POINT({coords[0]} {coords[1]})\"\n",
        "        g.add((geom_uri, GEO.asWKT, Literal(wkt)))\n",
        "        g.add((subject, GEO.hasGeometry, geom_uri))\n",
        "\n",
        "g.serialize(\"playgrounds.ttl\", format=\"turtle\")\n",
        "print(\"✅ Đã lưu RDF: playgrounds.ttl\")\n"
      ],
      "metadata": {
        "colab": {
          "base_uri": "https://localhost:8080/"
        },
        "id": "c5rZBcp5tCmc",
        "outputId": "d39f866b-1bb6-4607-c32b-52f8022ff1a8"
      },
      "execution_count": null,
      "outputs": [
        {
          "output_type": "stream",
          "name": "stdout",
          "text": [
            "✅ Đã lưu RDF: playgrounds.ttl\n"
          ]
        }
      ]
    },
    {
      "cell_type": "code",
      "source": [
        "from rdflib import Graph\n",
        "\n",
        "# Load file RDF vừa tạo\n",
        "g = Graph()\n",
        "g.parse(\"playgrounds.ttl\", format=\"turtle\")\n",
        "\n",
        "# Hiển thị 10 triple đầu tiên\n",
        "print(\"🔹 10 triple đầu tiên trong RDF:\")\n",
        "for i, (s, p, o) in enumerate(g):\n",
        "    print(f\"{i+1}. {s} -- {p} --> {o}\")\n",
        "    if i >= 9:\n",
        "        break\n"
      ],
      "metadata": {
        "colab": {
          "base_uri": "https://localhost:8080/"
        },
        "id": "51qtGoARtV02",
        "outputId": "ffd354f0-ef9c-4360-dcdb-af4290e87519"
      },
      "execution_count": null,
      "outputs": [
        {
          "output_type": "stream",
          "name": "stdout",
          "text": [
            "🔹 10 triple đầu tiên trong RDF:\n",
            "1. http://opendatafithou.org/playground/1228194746/geometry -- http://www.opendatafithou.net/ont/geosparql#asWKT --> POINT(105.7398883 21.0044387)\n",
            "2. http://opendatafithou.org/playground/1196001335/geometry -- http://www.opendatafithou.net/ont/geosparql#asWKT --> POINT(105.7525519 21.0054693)\n",
            "3. http://opendatafithou.org/playground/10765202472 -- http://opendatafithou.org/playground/website --> https://www.sanchoi.org/\n",
            "4. http://opendatafithou.org/playground/12690252201/geometry -- http://www.w3.org/1999/02/22-rdf-syntax-ns#type --> http://www.opendatafithou.net/ont/geosparql#Point\n",
            "5. http://opendatafithou.org/playground/691421446 -- http://www.opendatafithou.net/ont/geosparql#hasGeometry --> http://opendatafithou.org/playground/691421446/geometry\n",
            "6. http://opendatafithou.org/playground/691421446/geometry -- http://www.opendatafithou.net/ont/geosparql#asWKT --> POINT(105.8352211 21.0213775)\n",
            "7. http://opendatafithou.org/playground/899514990 -- http://www.w3.org/2000/01/rdf-schema#label --> Funzone\n",
            "8. http://opendatafithou.org/playground/10728910779/geometry -- http://www.w3.org/1999/02/22-rdf-syntax-ns#type --> http://www.opendatafithou.net/ont/geosparql#Point\n",
            "9. http://opendatafithou.org/playground/1185931488/geometry -- http://www.opendatafithou.net/ont/geosparql#asWKT --> POINT(105.7900021 21.029264)\n",
            "10. http://opendatafithou.org/playground/12050999269 -- http://www.opendatafithou.net/ont/geosparql#hasGeometry --> http://opendatafithou.org/playground/12050999269/geometry\n"
          ]
        }
      ]
    },
    {
      "cell_type": "code",
      "source": [
        "from rdflib import Graph, Literal, RDF, URIRef, RDFS, Namespace\n",
        "\n",
        "# Load file RDF hiện có\n",
        "g = Graph()\n",
        "g.parse(\"playgrounds.ttl\", format=\"turtle\")\n",
        "\n",
        "# Namespace theo cấu hình của bạn\n",
        "GEO = Namespace(\"http://www.opendatafithou.net/ont/geosparql#\")\n",
        "EX = Namespace(\"http://opendatafithou.org/playground/\")\n",
        "g.bind(\"geo\", GEO)\n",
        "g.bind(\"ex\", EX)\n",
        "g.bind(\"rdfs\", RDFS)\n",
        "\n",
        "# Liên kết Wikidata playground\n",
        "WIKI = URIRef(\"https://www.wikidata.org/wiki/Q10793991\")\n",
        "\n",
        "# Mở rộng từng playground\n",
        "for s in set(g.subjects(RDF.type, None)):\n",
        "    # Thêm nguồn dữ liệu\n",
        "    g.add((s, EX.source, Literal(\"OpenStreetMap\")))\n",
        "\n",
        "    # Liên kết Wikidata\n",
        "    g.add((s, RDFS.seeAlso, WIKI))\n",
        "\n",
        "    # Ví dụ thêm osm_type (nếu bạn có dữ liệu từ GeoJSON thì có thể lấy chính xác)\n",
        "    g.add((s, EX.osmType, Literal(\"way\")))\n",
        "\n",
        "    # Ví dụ thêm tag leisure\n",
        "    g.add((s, EX.leisure, Literal(\"playground\")))\n",
        "\n",
        "# Lưu file RDF mở rộng\n",
        "expanded_file = \"playgrounds_expanded.ttl\"\n",
        "g.serialize(expanded_file, format=\"turtle\")\n",
        "print(f\"✅ Đã lưu RDF mở rộng: {expanded_file}\")\n"
      ],
      "metadata": {
        "colab": {
          "base_uri": "https://localhost:8080/"
        },
        "id": "WthY5r7uuWuJ",
        "outputId": "8daebb4f-8ce2-4932-b178-cdb4d101e267"
      },
      "execution_count": null,
      "outputs": [
        {
          "output_type": "stream",
          "name": "stdout",
          "text": [
            "✅ Đã lưu RDF mở rộng: playgrounds_expanded.ttl\n"
          ]
        }
      ]
    },
    {
      "cell_type": "code",
      "source": [
        "from rdflib import Graph\n",
        "\n",
        "# Load file RDF vừa tạo\n",
        "g = Graph()\n",
        "g.parse(\"playgrounds_expanded.ttl\", format=\"turtle\")\n",
        "\n",
        "# Hiển thị 10 triple đầu tiên\n",
        "print(\"🔹 10 triple đầu tiên trong RDF:\")\n",
        "for i, (s, p, o) in enumerate(g):\n",
        "    print(f\"{i+1}. {s} -- {p} --> {o}\")\n",
        "    if i >= 9:\n",
        "        break\n"
      ],
      "metadata": {
        "colab": {
          "base_uri": "https://localhost:8080/"
        },
        "id": "AcD_gBDPuvBm",
        "outputId": "ca125491-0eaa-4474-adb4-c7fcd094ff68"
      },
      "execution_count": null,
      "outputs": [
        {
          "output_type": "stream",
          "name": "stdout",
          "text": [
            "🔹 10 triple đầu tiên trong RDF:\n",
            "1. http://opendatafithou.org/playground/12050985881/geometry -- http://www.w3.org/2000/01/rdf-schema#seeAlso --> https://www.wikidata.org/wiki/Q10793991\n",
            "2. http://opendatafithou.org/playground/1228194746/geometry -- http://www.opendatafithou.net/ont/geosparql#asWKT --> POINT(105.7398883 21.0044387)\n",
            "3. http://opendatafithou.org/playground/1370518270/geometry -- http://www.w3.org/2000/01/rdf-schema#seeAlso --> https://www.wikidata.org/wiki/Q10793991\n",
            "4. http://opendatafithou.org/playground/1218063064/geometry -- http://opendatafithou.org/playground/osmType --> way\n",
            "5. http://opendatafithou.org/playground/1425341621/geometry -- http://opendatafithou.org/playground/leisure --> playground\n",
            "6. http://opendatafithou.org/playground/199297711/geometry -- http://opendatafithou.org/playground/osmType --> way\n",
            "7. http://opendatafithou.org/playground/10765202472 -- http://opendatafithou.org/playground/website --> https://www.sanchoi.org/\n",
            "8. http://opendatafithou.org/playground/12050985881/geometry -- http://opendatafithou.org/playground/source --> OpenStreetMap\n",
            "9. http://opendatafithou.org/playground/12690252201/geometry -- http://www.w3.org/1999/02/22-rdf-syntax-ns#type --> http://www.opendatafithou.net/ont/geosparql#Point\n",
            "10. http://opendatafithou.org/playground/5701412125/geometry -- http://opendatafithou.org/playground/source --> OpenStreetMap\n"
          ]
        }
      ]
    },
    {
      "cell_type": "code",
      "source": [
        "from rdflib import Graph, Literal, RDF, URIRef, Namespace, RDFS\n",
        "\n",
        "# Load RDF cũ\n",
        "g = Graph()\n",
        "g.parse(\"playgrounds.ttl\", format=\"turtle\")\n",
        "\n",
        "# Namespace theo cấu hình của bạn\n",
        "GEO = Namespace(\"http://www.opendatafithou.net/ont/geosparql#\")\n",
        "EX = Namespace(\"http://opendatafithou.org/playground/\")\n",
        "g.bind(\"geo\", GEO)\n",
        "g.bind(\"ex\", EX)\n",
        "g.bind(\"rdfs\", RDFS)\n",
        "\n",
        "# URI Wikidata playground\n",
        "WIKI = URIRef(\"https://www.wikidata.org/wiki/Q10793991\")\n",
        "\n",
        "# Lấy tất cả các playground (subject) dựa trên predicate geo:hasGeometry\n",
        "playgrounds = set()\n",
        "for s, p, o in g.triples((None, GEO.hasGeometry, None)):\n",
        "    playgrounds.add(s)\n",
        "\n",
        "# Mở rộng từng playground\n",
        "for s in playgrounds:\n",
        "    # Thêm metadata vào playground chính, không vào geometry\n",
        "    g.add((s, EX.source, Literal(\"OpenStreetMap\")))\n",
        "    g.add((s, EX.osmType, Literal(\"way\")))       # ví dụ default\n",
        "    g.add((s, EX.leisure, Literal(\"playground\"))) # ví dụ default\n",
        "    g.add((s, RDFS.seeAlso, WIKI))\n",
        "\n",
        "# Lưu file RDF sạch sẽ\n",
        "expanded_file = \"playgrounds_expanded_clean.ttl\"\n",
        "g.serialize(expanded_file, format=\"turtle\")\n",
        "print(f\"✅ Đã lưu RDF mở rộng sạch sẽ: {expanded_file}\")\n"
      ],
      "metadata": {
        "colab": {
          "base_uri": "https://localhost:8080/"
        },
        "id": "Bnq1txJMvRty",
        "outputId": "a9f7a7ab-f262-4eb4-abf5-f0149b0e4359"
      },
      "execution_count": null,
      "outputs": [
        {
          "output_type": "stream",
          "name": "stdout",
          "text": [
            "✅ Đã lưu RDF mở rộng sạch sẽ: playgrounds_expanded_clean.ttl\n"
          ]
        }
      ]
    },
    {
      "cell_type": "code",
      "source": [
        "import os\n",
        "import requests\n",
        "import base64\n",
        "import json\n",
        "\n",
        "def get_github_file(file_path, save_as=\"tmp_file.geojson\"):\n",
        "    \"\"\"\n",
        "    Lấy nội dung file từ GitHub repo, lưu tạm file để dùng cho hàm chuyển RDF.\n",
        "    Chỉ hiển thị số feature và tên file lưu tạm, không in toàn bộ dữ liệu.\n",
        "\n",
        "    Args:\n",
        "        file_path (str): Đường dẫn file trong repo, ví dụ \"data/playground.geojson\"\n",
        "        save_as (str): Tên file tạm lưu trên Colab để dùng cho hàm RDF\n",
        "\n",
        "    Returns:\n",
        "        str | None: Tên file tạm, hoặc None nếu lỗi\n",
        "    \"\"\"\n",
        "    url = f\"https://api.github.com/repos/{GITHUB_USER}/{GITHUB_REPO}/contents/{file_path}?ref={BRANCH}\"\n",
        "    headers = {\n",
        "        \"Authorization\": f\"token {GITHUB_TOKEN}\",\n",
        "        \"Accept\": \"application/vnd.github.v3+json\"\n",
        "    }\n",
        "\n",
        "    response = requests.get(url, headers=headers)\n",
        "\n",
        "    if response.status_code == 200:\n",
        "        data = response.json()\n",
        "        file_content = base64.b64decode(data['content']).decode('utf-8')\n",
        "        geojson_data = json.loads(file_content)\n",
        "\n",
        "        # Lưu tạm file\n",
        "        with open(save_as, \"w\", encoding=\"utf-8\") as f:\n",
        "            json.dump(geojson_data, f, ensure_ascii=False, indent=2)\n",
        "\n",
        "        # Hiển thị thông tin\n",
        "        num_features = len(geojson_data.get(\"features\", []))\n",
        "        print(f\"✅ Lấy thành công: {num_features} feature(s)\")\n",
        "        print(f\"✅ File tạm lưu: {save_as}\")\n",
        "\n",
        "        return save_as\n",
        "    else:\n",
        "        print(\"❌ Lỗi:\", response.status_code, response.text)\n",
        "        return None\n",
        "\n",
        "# Ví dụ sử dụng\n",
        "tmp_file = get_github_file(\"data/playground.geojson\")\n",
        "if tmp_file:\n",
        "    print(f\"Bạn có thể truyền {tmp_file} vào hàm geojson_to_rdf_clean()\")\n"
      ],
      "metadata": {
        "colab": {
          "base_uri": "https://localhost:8080/"
        },
        "id": "3ArIlbIwy2jJ",
        "outputId": "2e0e8c69-ef64-4951-ebbf-e244d96575c4"
      },
      "execution_count": null,
      "outputs": [
        {
          "output_type": "stream",
          "name": "stdout",
          "text": [
            "✅ Lấy thành công: 136 feature(s)\n",
            "✅ File tạm lưu: tmp_file.geojson\n",
            "Bạn có thể truyền tmp_file.geojson vào hàm geojson_to_rdf_clean()\n"
          ]
        }
      ]
    },
    {
      "cell_type": "code",
      "source": [
        "get_github_file(\"data/atm.geojson\")"
      ],
      "metadata": {
        "colab": {
          "base_uri": "https://localhost:8080/",
          "height": 70
        },
        "id": "YPnn6Jr4y51T",
        "outputId": "48815cad-129d-4243-efd9-a3d457e399df"
      },
      "execution_count": null,
      "outputs": [
        {
          "output_type": "stream",
          "name": "stdout",
          "text": [
            "✅ Lấy thành công: 1416 feature(s)\n",
            "✅ File tạm lưu: tmp_file.geojson\n"
          ]
        },
        {
          "output_type": "execute_result",
          "data": {
            "text/plain": [
              "'tmp_file.geojson'"
            ],
            "application/vnd.google.colaboratory.intrinsic+json": {
              "type": "string"
            }
          },
          "metadata": {},
          "execution_count": 32
        }
      ]
    },
    {
      "cell_type": "code",
      "source": [
        "from rdflib import Graph, Literal, RDF, URIRef, Namespace, RDFS\n",
        "import json\n",
        "\n",
        "# Bản đồ OSM tag → Wikidata QID\n",
        "WIKIDATA_MAP = {\n",
        "    \"playground\": \"Q10793991\",\n",
        "    \"toilets\": \"Q813966\",\n",
        "    \"atm\": \"Q12892\",\n",
        "    \"bus_stop\": \"Q55488\",\n",
        "    \"school\": \"Q3918\",\n",
        "    \"hospital\": \"Q16917\",\n",
        "    \"park\": \"Q22698\"\n",
        "}\n",
        "\n",
        "def geojson_to_rdf_clean(file_geojson, output_file=\"poi_expanded_clean.ttl\"):\n",
        "    \"\"\"\n",
        "    Chuyển GeoJSON thành RDF Turtle mở rộng sạch sẽ, hỗ trợ nhiều loại POI.\n",
        "\n",
        "    Args:\n",
        "        file_geojson (str): Đường dẫn file GeoJSON đầu vào.\n",
        "        output_file (str): File RDF Turtle đầu ra.\n",
        "    \"\"\"\n",
        "    # Load GeoJSON\n",
        "    with open(file_geojson, \"r\", encoding=\"utf-8\") as f:\n",
        "        geojson_data = json.load(f)\n",
        "\n",
        "    # Khởi tạo RDF graph\n",
        "    g = Graph()\n",
        "    GEO = Namespace(\"http://www.opendatafithou.net/ont/geosparql#\")\n",
        "    EX = Namespace(\"http://opendatafithou.org/poi/\")\n",
        "    g.bind(\"geo\", GEO)\n",
        "    g.bind(\"ex\", EX)\n",
        "    g.bind(\"rdfs\", RDFS)\n",
        "\n",
        "    # URI mặc định cho seeAlso Wikidata khi có loại\n",
        "    def get_wikidata_uri(poi_type):\n",
        "        qid = WIKIDATA_MAP.get(poi_type)\n",
        "        if qid:\n",
        "            return URIRef(f\"https://www.wikidata.org/wiki/{qid}\")\n",
        "        return None\n",
        "\n",
        "    # Tạo RDF từ GeoJSON\n",
        "    for feature in geojson_data.get(\"features\", []):\n",
        "        props = feature.get(\"properties\", {})\n",
        "        osm_id = props.get(\"osm_id\")\n",
        "        if not osm_id:\n",
        "            continue\n",
        "        subject = EX[str(osm_id)]\n",
        "\n",
        "        # Label\n",
        "        name = props.get(\"name\") or props.get(\"tags\", {}).get(\"name\")\n",
        "        if name:\n",
        "            g.add((subject, RDFS.label, Literal(name)))\n",
        "\n",
        "        # Các tag khác\n",
        "        tags = props.get(\"tags\", {})\n",
        "        for k, v in tags.items():\n",
        "            if k != \"name\":\n",
        "                g.add((subject, EX[k], Literal(v)))\n",
        "\n",
        "        # Geometry\n",
        "        geom = feature.get(\"geometry\")\n",
        "        if geom:\n",
        "            geom_uri = URIRef(str(subject) + \"/geometry\")\n",
        "            g.add((geom_uri, RDF.type, GEO[geom[\"type\"]]))\n",
        "            coords = geom[\"coordinates\"]\n",
        "            if geom[\"type\"] == \"Point\":\n",
        "                wkt = f\"POINT({coords[0]} {coords[1]})\"\n",
        "            g.add((geom_uri, GEO.asWKT, Literal(wkt)))\n",
        "            g.add((subject, GEO.hasGeometry, geom_uri))\n",
        "\n",
        "    # Mở rộng RDF sạch sẽ\n",
        "    for s in set(g.subjects(RDF.type, None)):\n",
        "        # Metadata mặc định\n",
        "        g.add((s, EX.source, Literal(\"OpenStreetMap\")))\n",
        "        g.add((s, EX.osmType, Literal(\"way\")))  # default\n",
        "        # Xác định loại POI\n",
        "        poi_type = None\n",
        "        for p, o in g.predicate_objects(s):\n",
        "            if p == EX.leisure or p == EX.amenity:\n",
        "                poi_type = str(o)\n",
        "                break\n",
        "        # Nếu không có poi_type từ tag, mặc định playground\n",
        "        if not poi_type:\n",
        "            poi_type = \"playground\"\n",
        "        g.add((s, EX.leisure, Literal(poi_type)))\n",
        "        # Liên kết Wikidata nếu có\n",
        "        wiki_uri = get_wikidata_uri(poi_type)\n",
        "        if wiki_uri:\n",
        "            g.add((s, RDFS.seeAlso, wiki_uri))\n",
        "\n",
        "    # Lưu file RDF\n",
        "    g.serialize(output_file, format=\"turtle\")\n",
        "    print(f\"✅ Đã lưu RDF mở rộng sạch sẽ: {output_file}\")\n",
        "    return g\n",
        "\n"
      ],
      "metadata": {
        "id": "NLekK9fVzbfw"
      },
      "execution_count": null,
      "outputs": []
    },
    {
      "cell_type": "code",
      "source": [
        "geojson_to_rdf_clean(\"tmp_file.geojson\", \"atm_expanded_clean.ttl\")"
      ],
      "metadata": {
        "colab": {
          "base_uri": "https://localhost:8080/"
        },
        "id": "WZRXQmUo1y4N",
        "outputId": "895af395-f18e-4c87-d15e-f88de6581fea"
      },
      "execution_count": null,
      "outputs": [
        {
          "output_type": "stream",
          "name": "stdout",
          "text": [
            "✅ Đã lưu RDF mở rộng sạch sẽ: atm_expanded_clean.ttl\n"
          ]
        },
        {
          "output_type": "execute_result",
          "data": {
            "text/plain": [
              "<Graph identifier=N74b04305b631494da920912f6a095765 (<class 'rdflib.graph.Graph'>)>"
            ]
          },
          "metadata": {},
          "execution_count": 35
        }
      ]
    },
    {
      "cell_type": "code",
      "source": [
        "from rdflib import Graph\n",
        "\n",
        "def show_rdf_triples(file_rdf, n=10, rdf_format=\"turtle\"):\n",
        "    \"\"\"\n",
        "    Hiển thị n triple đầu tiên của một file RDF.\n",
        "\n",
        "    Args:\n",
        "        file_rdf (str): Đường dẫn file RDF.\n",
        "        n (int): Số triple muốn hiển thị.\n",
        "        rdf_format (str): Format file RDF, mặc định \"turtle\".\n",
        "    \"\"\"\n",
        "    g = Graph()\n",
        "    g.parse(file_rdf, format=rdf_format)\n",
        "\n",
        "    print(f\"🔹 {n} triple đầu tiên trong RDF ({file_rdf}):\")\n",
        "    for i, (s, p, o) in enumerate(g):\n",
        "        print(f\"{i+1}. {s} -- {p} --> {o}\")\n",
        "        if i >= n-1:\n",
        "            break\n",
        "\n"
      ],
      "metadata": {
        "id": "2gdyTxge2KI5"
      },
      "execution_count": null,
      "outputs": []
    },
    {
      "cell_type": "code",
      "source": [
        "\n",
        "# Ví dụ sử dụng\n",
        "show_rdf_triples(\"atm_expanded_clean.ttl\", n=10)"
      ],
      "metadata": {
        "colab": {
          "base_uri": "https://localhost:8080/"
        },
        "id": "O9OZiNHh2Lkl",
        "outputId": "dbbb5b46-c585-47cd-eea6-e3677d079e5a"
      },
      "execution_count": null,
      "outputs": [
        {
          "output_type": "stream",
          "name": "stdout",
          "text": [
            "🔹 10 triple đầu tiên trong RDF (atm_expanded_clean.ttl):\n",
            "1. http://opendatafithou.org/poi/724829588/geometry -- http://www.w3.org/2000/01/rdf-schema#seeAlso --> https://www.wikidata.org/wiki/Q10793991\n",
            "2. http://opendatafithou.org/poi/1491048129 -- http://opendatafithou.org/poi/amenity --> atm\n",
            "3. http://opendatafithou.org/poi/1491047983/geometry -- http://www.opendatafithou.net/ont/geosparql#asWKT --> POINT(105.8340583 20.9995766)\n",
            "4. http://opendatafithou.org/poi/12896726155 -- http://opendatafithou.org/poi/operator --> TPBank\n",
            "5. http://opendatafithou.org/poi/5125915206/geometry -- http://www.opendatafithou.net/ont/geosparql#asWKT --> POINT(105.8111519 21.0684335)\n",
            "6. http://opendatafithou.org/poi/1498025790 -- http://opendatafithou.org/poi/official_name:vi --> Ngân hàng Đầu tư và Phát triển Việt Nam\n",
            "7. http://opendatafithou.org/poi/9667843498/geometry -- http://opendatafithou.org/poi/leisure --> playground\n",
            "8. http://opendatafithou.org/poi/12853640497 -- http://opendatafithou.org/poi/cash_in --> yes\n",
            "9. http://opendatafithou.org/poi/481836347/geometry -- http://opendatafithou.org/poi/osmType --> way\n",
            "10. http://opendatafithou.org/poi/12129452075/geometry -- http://www.w3.org/2000/01/rdf-schema#seeAlso --> https://www.wikidata.org/wiki/Q10793991\n"
          ]
        }
      ]
    },
    {
      "cell_type": "code",
      "source": [
        "def push_file(file_local, repo_path, commit_message=\"Upload file via API\"):\n",
        "    \"\"\"\n",
        "    Đẩy file từ Colab/Local lên GitHub, sử dụng các cấu hình mặc định đã có.\n",
        "\n",
        "    Args:\n",
        "        file_local (str): File trên Colab/local.\n",
        "        repo_path (str): Đường dẫn file trong repo, ví dụ \"opendata_hanoi/playgrounds_expanded_clean.ttl\".\n",
        "        commit_message (str): Message commit.\n",
        "    \"\"\"\n",
        "    if not os.environ.get('GITHUB_TOKEN'):\n",
        "        print(\"❌ Lỗi: GITHUB_TOKEN chưa được thiết lập trong biến môi trường.\")\n",
        "        return None\n",
        "\n",
        "    # Encode file thành base64\n",
        "    with open(file_local, \"rb\") as f:\n",
        "        content_b64 = base64.b64encode(f.read()).decode(\"utf-8\")\n",
        "\n",
        "    # Kiểm tra file đã tồn tại chưa\n",
        "    check_url = f\"https://api.github.com/repos/{GITHUB_USER}/{GITHUB_REPO}/contents/{repo_path}?ref={BRANCH}\"\n",
        "    headers = {\n",
        "        \"Authorization\": f\"token {GITHUB_TOKEN}\",\n",
        "        \"Accept\": \"application/vnd.github.v3+json\"\n",
        "    }\n",
        "    r = requests.get(check_url, headers=headers)\n",
        "    sha = r.json().get(\"sha\") if r.status_code == 200 else None\n",
        "\n",
        "    # Payload upload/update\n",
        "    data = {\n",
        "        \"message\": commit_message,\n",
        "        \"content\": content_b64,\n",
        "        \"branch\": BRANCH\n",
        "    }\n",
        "    if sha:\n",
        "        data[\"sha\"] = sha  # cần nếu update file đã tồn tại\n",
        "\n",
        "    # Đẩy file\n",
        "    response = requests.put(check_url, headers=headers, data=json.dumps(data))\n",
        "    if response.status_code in [200, 201]:\n",
        "        print(f\"✅ File {file_local} đã được đẩy lên GitHub: {repo_path}\")\n",
        "        return True\n",
        "    else:\n",
        "        print(f\"❌ Lỗi đẩy file: {response.status_code} - {response.text}\")\n",
        "        return None\n",
        "\n"
      ],
      "metadata": {
        "id": "0uYeqkvZ2T-g"
      },
      "execution_count": null,
      "outputs": []
    },
    {
      "cell_type": "code",
      "source": [
        "# Ví dụ sử dụng\n",
        "push_file(\"atm_expanded_clean.ttl\", \"opendata_hanoi/atm_expanded_clean.ttl\", \"Upload RDF atm file\")"
      ],
      "metadata": {
        "colab": {
          "base_uri": "https://localhost:8080/"
        },
        "id": "KKcPetmV3QaX",
        "outputId": "595c1a43-e7ef-4a89-8ade-3b31d28e688d"
      },
      "execution_count": null,
      "outputs": [
        {
          "output_type": "stream",
          "name": "stdout",
          "text": [
            "✅ File atm_expanded_clean.ttl đã được đẩy lên GitHub: opendata_hanoi/atm_expanded_clean.ttl\n"
          ]
        },
        {
          "output_type": "execute_result",
          "data": {
            "text/plain": [
              "True"
            ]
          },
          "metadata": {},
          "execution_count": 42
        }
      ]
    },
    {
      "cell_type": "code",
      "source": [
        "get_github_file(\"data/drinking_water.geojson\")"
      ],
      "metadata": {
        "colab": {
          "base_uri": "https://localhost:8080/",
          "height": 70
        },
        "id": "gTRl53kY4N8x",
        "outputId": "1475e07f-0a4d-4306-eab7-e2370c0510ba"
      },
      "execution_count": null,
      "outputs": [
        {
          "output_type": "stream",
          "name": "stdout",
          "text": [
            "✅ Lấy thành công: 19 feature(s)\n",
            "✅ File tạm lưu: tmp_file.geojson\n"
          ]
        },
        {
          "output_type": "execute_result",
          "data": {
            "text/plain": [
              "'tmp_file.geojson'"
            ],
            "application/vnd.google.colaboratory.intrinsic+json": {
              "type": "string"
            }
          },
          "metadata": {},
          "execution_count": 50
        }
      ]
    },
    {
      "cell_type": "code",
      "source": [
        "geojson_to_rdf_clean(\"tmp_file.geojson\", \"drinking_water_expanded_clean.ttl\")"
      ],
      "metadata": {
        "colab": {
          "base_uri": "https://localhost:8080/"
        },
        "id": "vZ5mASOs4TZP",
        "outputId": "ea4edb80-e635-43c6-fd0c-a3a0dfce2da7"
      },
      "execution_count": null,
      "outputs": [
        {
          "output_type": "stream",
          "name": "stdout",
          "text": [
            "✅ Đã lưu RDF mở rộng sạch sẽ: drinking_water_expanded_clean.ttl\n"
          ]
        },
        {
          "output_type": "execute_result",
          "data": {
            "text/plain": [
              "<Graph identifier=N4a784f6c45da4a0e85f4128d616d0bfd (<class 'rdflib.graph.Graph'>)>"
            ]
          },
          "metadata": {},
          "execution_count": 51
        }
      ]
    },
    {
      "cell_type": "code",
      "source": [
        "show_rdf_triples(\"drinking_water_expanded_clean.ttl\", n=10)"
      ],
      "metadata": {
        "colab": {
          "base_uri": "https://localhost:8080/"
        },
        "id": "z3nExGpI4eyq",
        "outputId": "7daf9879-bf8a-4214-d717-de7c83bde7ba"
      },
      "execution_count": null,
      "outputs": [
        {
          "output_type": "stream",
          "name": "stdout",
          "text": [
            "🔹 10 triple đầu tiên trong RDF (drinking_water_expanded_clean.ttl):\n",
            "1. http://opendatafithou.org/poi/9931507054 -- http://opendatafithou.org/poi/fountain --> bubbler\n",
            "2. http://opendatafithou.org/poi/13005736901/geometry -- http://www.w3.org/1999/02/22-rdf-syntax-ns#type --> http://www.opendatafithou.net/ont/geosparql#Point\n",
            "3. http://opendatafithou.org/poi/11834019569/geometry -- http://opendatafithou.org/poi/source --> OpenStreetMap\n",
            "4. http://opendatafithou.org/poi/6698948887/geometry -- http://opendatafithou.org/poi/source --> OpenStreetMap\n",
            "5. http://opendatafithou.org/poi/13005736901/geometry -- http://opendatafithou.org/poi/source --> OpenStreetMap\n",
            "6. http://opendatafithou.org/poi/4758991221/geometry -- http://www.w3.org/1999/02/22-rdf-syntax-ns#type --> http://www.opendatafithou.net/ont/geosparql#Point\n",
            "7. http://opendatafithou.org/poi/10114776470/geometry -- http://www.opendatafithou.net/ont/geosparql#asWKT --> POINT(105.8445302 21.0038661)\n",
            "8. http://opendatafithou.org/poi/12690411001 -- http://opendatafithou.org/poi/fountain --> bubbler\n",
            "9. http://opendatafithou.org/poi/9931530710 -- http://opendatafithou.org/poi/fee --> no\n",
            "10. http://opendatafithou.org/poi/11191573737/geometry -- http://www.opendatafithou.net/ont/geosparql#asWKT --> POINT(105.853708 21.0298177)\n"
          ]
        }
      ]
    },
    {
      "cell_type": "code",
      "source": [
        "push_file(\"drinking_water_expanded_clean.ttl\", \"opendata_hanoi/drinking_water_expanded_clean.ttl\", \"Upload RDF drinking_water file\")"
      ],
      "metadata": {
        "colab": {
          "base_uri": "https://localhost:8080/"
        },
        "id": "fAn0UY8W4hJU",
        "outputId": "6d48e29d-d2f6-4b4f-8338-6012cd238114"
      },
      "execution_count": null,
      "outputs": [
        {
          "output_type": "stream",
          "name": "stdout",
          "text": [
            "✅ File drinking_water_expanded_clean.ttl đã được đẩy lên GitHub: opendata_hanoi/drinking_water_expanded_clean.ttl\n"
          ]
        },
        {
          "output_type": "execute_result",
          "data": {
            "text/plain": [
              "True"
            ]
          },
          "metadata": {},
          "execution_count": 53
        }
      ]
    },
    {
      "cell_type": "code",
      "source": [
        "get_github_file(\"data/hospital.geojson\")"
      ],
      "metadata": {
        "colab": {
          "base_uri": "https://localhost:8080/",
          "height": 70
        },
        "id": "rN0CEYl974CJ",
        "outputId": "80dc07cd-7112-4ed2-eab9-4dc612438402"
      },
      "execution_count": null,
      "outputs": [
        {
          "output_type": "stream",
          "name": "stdout",
          "text": [
            "✅ Lấy thành công: 157 feature(s)\n",
            "✅ File tạm lưu: tmp_file.geojson\n"
          ]
        },
        {
          "output_type": "execute_result",
          "data": {
            "text/plain": [
              "'tmp_file.geojson'"
            ],
            "application/vnd.google.colaboratory.intrinsic+json": {
              "type": "string"
            }
          },
          "metadata": {},
          "execution_count": 54
        }
      ]
    },
    {
      "cell_type": "code",
      "source": [
        "geojson_to_rdf_clean(\"tmp_file.geojson\", \"hospital_expanded_clean.ttl\")"
      ],
      "metadata": {
        "colab": {
          "base_uri": "https://localhost:8080/"
        },
        "id": "REDFY_vU8BDe",
        "outputId": "2afa2422-db34-4d29-fc96-1f6b22b9a85f"
      },
      "execution_count": null,
      "outputs": [
        {
          "output_type": "stream",
          "name": "stdout",
          "text": [
            "✅ Đã lưu RDF mở rộng sạch sẽ: hospital_expanded_clean.ttl\n"
          ]
        },
        {
          "output_type": "execute_result",
          "data": {
            "text/plain": [
              "<Graph identifier=Ndd6bca23fed64f1ba79aa842f127a0ab (<class 'rdflib.graph.Graph'>)>"
            ]
          },
          "metadata": {},
          "execution_count": 55
        }
      ]
    },
    {
      "cell_type": "code",
      "source": [
        "show_rdf_triples(\"hospital_expanded_clean.ttl\", n=10)"
      ],
      "metadata": {
        "colab": {
          "base_uri": "https://localhost:8080/"
        },
        "id": "H657I3bp8Kks",
        "outputId": "3bf43ec3-d348-4c9d-d1f5-807ef5dd669d"
      },
      "execution_count": null,
      "outputs": [
        {
          "output_type": "stream",
          "name": "stdout",
          "text": [
            "🔹 10 triple đầu tiên trong RDF (hospital_expanded_clean.ttl):\n",
            "1. http://opendatafithou.org/poi/199148844 -- http://opendatafithou.org/poi/addr:province --> Hà Nội\n",
            "2. http://opendatafithou.org/poi/12000027489 -- http://opendatafithou.org/poi/healthcare --> hospital\n",
            "3. http://opendatafithou.org/poi/5839478946 -- http://opendatafithou.org/poi/addr:street --> Ngô Quyền\n",
            "4. http://opendatafithou.org/poi/974596720/geometry -- http://www.w3.org/2000/01/rdf-schema#seeAlso --> https://www.wikidata.org/wiki/Q10793991\n",
            "5. http://opendatafithou.org/poi/704147393 -- http://opendatafithou.org/poi/amenity --> hospital\n",
            "6. http://opendatafithou.org/poi/704147393 -- http://www.opendatafithou.net/ont/geosparql#hasGeometry --> http://opendatafithou.org/poi/704147393/geometry\n",
            "7. http://opendatafithou.org/poi/1165535247 -- http://opendatafithou.org/poi/operator:type --> government\n",
            "8. http://opendatafithou.org/poi/384534300 -- http://www.opendatafithou.net/ont/geosparql#hasGeometry --> http://opendatafithou.org/poi/384534300/geometry\n",
            "9. http://opendatafithou.org/poi/577155075 -- http://www.opendatafithou.net/ont/geosparql#hasGeometry --> http://opendatafithou.org/poi/577155075/geometry\n",
            "10. http://opendatafithou.org/poi/700840699 -- http://opendatafithou.org/poi/amenity --> hospital\n"
          ]
        }
      ]
    },
    {
      "cell_type": "code",
      "source": [
        "push_file(\"hospital_expanded_clean.ttl\", \"opendata_hanoi/hospital_expanded_clean.ttl\", \"Upload RDF hospital file\")"
      ],
      "metadata": {
        "colab": {
          "base_uri": "https://localhost:8080/"
        },
        "id": "OZgVGmL68McQ",
        "outputId": "21e7ef74-dfed-49fe-adce-2265947200b5"
      },
      "execution_count": null,
      "outputs": [
        {
          "output_type": "stream",
          "name": "stdout",
          "text": [
            "✅ File hospital_expanded_clean.ttl đã được đẩy lên GitHub: opendata_hanoi/hospital_expanded_clean.ttl\n"
          ]
        },
        {
          "output_type": "execute_result",
          "data": {
            "text/plain": [
              "True"
            ]
          },
          "metadata": {},
          "execution_count": 57
        }
      ]
    },
    {
      "cell_type": "code",
      "source": [
        "get_github_file(\"data/school.geojson\")"
      ],
      "metadata": {
        "colab": {
          "base_uri": "https://localhost:8080/",
          "height": 70
        },
        "id": "ZnqwoWNH8nZI",
        "outputId": "8e156178-9123-4324-fcac-86ae824e9871"
      },
      "execution_count": null,
      "outputs": [
        {
          "output_type": "stream",
          "name": "stdout",
          "text": [
            "✅ Lấy thành công: 1038 feature(s)\n",
            "✅ File tạm lưu: tmp_file.geojson\n"
          ]
        },
        {
          "output_type": "execute_result",
          "data": {
            "text/plain": [
              "'tmp_file.geojson'"
            ],
            "application/vnd.google.colaboratory.intrinsic+json": {
              "type": "string"
            }
          },
          "metadata": {},
          "execution_count": 58
        }
      ]
    },
    {
      "cell_type": "code",
      "source": [
        "geojson_to_rdf_clean(\"tmp_file.geojson\", \"school_expanded_clean.ttl\")"
      ],
      "metadata": {
        "colab": {
          "base_uri": "https://localhost:8080/"
        },
        "id": "9YqpLjx38pSM",
        "outputId": "c4f5730a-5a9a-449b-eaf0-16bed04e888d"
      },
      "execution_count": null,
      "outputs": [
        {
          "output_type": "stream",
          "name": "stdout",
          "text": [
            "✅ Đã lưu RDF mở rộng sạch sẽ: school_expanded_clean.ttl\n"
          ]
        },
        {
          "output_type": "execute_result",
          "data": {
            "text/plain": [
              "<Graph identifier=Nad58414186534b55b6b6a857d278a185 (<class 'rdflib.graph.Graph'>)>"
            ]
          },
          "metadata": {},
          "execution_count": 59
        }
      ]
    },
    {
      "cell_type": "code",
      "source": [
        "show_rdf_triples(\"school_expanded_clean.ttl\", n=10)"
      ],
      "metadata": {
        "colab": {
          "base_uri": "https://localhost:8080/"
        },
        "id": "ZVdBxJUm8rpR",
        "outputId": "0a81f241-c719-420b-ea5b-fb50710fafbd"
      },
      "execution_count": null,
      "outputs": [
        {
          "output_type": "stream",
          "name": "stdout",
          "text": [
            "🔹 10 triple đầu tiên trong RDF (school_expanded_clean.ttl):\n",
            "1. http://opendatafithou.org/poi/1185911640/geometry -- http://www.w3.org/2000/01/rdf-schema#seeAlso --> https://www.wikidata.org/wiki/Q10793991\n",
            "2. http://opendatafithou.org/poi/661138420 -- http://opendatafithou.org/poi/grades --> 1-5\n",
            "3. http://opendatafithou.org/poi/810475989 -- http://opendatafithou.org/poi/addr:subdistrict --> Quang Trung\n",
            "4. http://opendatafithou.org/poi/7409549825 -- http://opendatafithou.org/poi/addr:district --> Chương Mỹ\n",
            "5. http://opendatafithou.org/poi/966204384 -- http://opendatafithou.org/poi/grades --> 1-5\n",
            "6. http://opendatafithou.org/poi/875488227/geometry -- http://opendatafithou.org/poi/source --> OpenStreetMap\n",
            "7. http://opendatafithou.org/poi/954924140/geometry -- http://opendatafithou.org/poi/leisure --> playground\n",
            "8. http://opendatafithou.org/poi/659909921/geometry -- http://www.w3.org/2000/01/rdf-schema#seeAlso --> https://www.wikidata.org/wiki/Q10793991\n",
            "9. http://opendatafithou.org/poi/487142237 -- http://opendatafithou.org/poi/amenity --> school\n",
            "10. http://opendatafithou.org/poi/700627456/geometry -- http://opendatafithou.org/poi/source --> OpenStreetMap\n"
          ]
        }
      ]
    },
    {
      "cell_type": "code",
      "source": [
        "push_file(\"school_expanded_clean.ttl\", \"opendata_hanoi/school_expanded_clean.ttl\", \"Upload RDF school file\")"
      ],
      "metadata": {
        "colab": {
          "base_uri": "https://localhost:8080/"
        },
        "id": "LGdEghbk8t-0",
        "outputId": "e9c9f5c3-93a3-4990-e9ce-5d2487f50bea"
      },
      "execution_count": null,
      "outputs": [
        {
          "output_type": "stream",
          "name": "stdout",
          "text": [
            "✅ File school_expanded_clean.ttl đã được đẩy lên GitHub: opendata_hanoi/school_expanded_clean.ttl\n"
          ]
        },
        {
          "output_type": "execute_result",
          "data": {
            "text/plain": [
              "True"
            ]
          },
          "metadata": {},
          "execution_count": 61
        }
      ]
    },
    {
      "cell_type": "code",
      "source": [
        "get_github_file(\"data/toilets.geojson\")"
      ],
      "metadata": {
        "colab": {
          "base_uri": "https://localhost:8080/",
          "height": 70
        },
        "id": "xJm0YqXH9QdO",
        "outputId": "98afd7e9-edac-4f09-c594-2a4e5648bfec"
      },
      "execution_count": null,
      "outputs": [
        {
          "output_type": "stream",
          "name": "stdout",
          "text": [
            "✅ Lấy thành công: 141 feature(s)\n",
            "✅ File tạm lưu: tmp_file.geojson\n"
          ]
        },
        {
          "output_type": "execute_result",
          "data": {
            "text/plain": [
              "'tmp_file.geojson'"
            ],
            "application/vnd.google.colaboratory.intrinsic+json": {
              "type": "string"
            }
          },
          "metadata": {},
          "execution_count": 62
        }
      ]
    },
    {
      "cell_type": "code",
      "source": [
        "geojson_to_rdf_clean(\"tmp_file.geojson\", \"toilets_expanded_clean.ttl\")"
      ],
      "metadata": {
        "colab": {
          "base_uri": "https://localhost:8080/"
        },
        "id": "hCP909059Vwk",
        "outputId": "ecdbbce1-eec6-4a7e-d40a-575aecc33376"
      },
      "execution_count": null,
      "outputs": [
        {
          "output_type": "stream",
          "name": "stdout",
          "text": [
            "✅ Đã lưu RDF mở rộng sạch sẽ: toilets_expanded_clean.ttl\n"
          ]
        },
        {
          "output_type": "execute_result",
          "data": {
            "text/plain": [
              "<Graph identifier=Nf3db29005bc643f9b7677071d932e9b1 (<class 'rdflib.graph.Graph'>)>"
            ]
          },
          "metadata": {},
          "execution_count": 63
        }
      ]
    },
    {
      "cell_type": "code",
      "source": [
        "show_rdf_triples(\"toilets_expanded_clean.ttl\", n=10)"
      ],
      "metadata": {
        "colab": {
          "base_uri": "https://localhost:8080/"
        },
        "id": "NhgJ41V_9Yz3",
        "outputId": "9a9766cb-5648-4f72-f31f-2e08d452ec8a"
      },
      "execution_count": null,
      "outputs": [
        {
          "output_type": "stream",
          "name": "stdout",
          "text": [
            "🔹 10 triple đầu tiên trong RDF (toilets_expanded_clean.ttl):\n",
            "1. http://opendatafithou.org/poi/1228194740 -- http://opendatafithou.org/poi/building --> yes\n",
            "2. http://opendatafithou.org/poi/1219283150/geometry -- http://www.w3.org/2000/01/rdf-schema#seeAlso --> https://www.wikidata.org/wiki/Q10793991\n",
            "3. http://opendatafithou.org/poi/5304805821/geometry -- http://www.opendatafithou.net/ont/geosparql#asWKT --> POINT(105.8491565 21.02723)\n",
            "4. http://opendatafithou.org/poi/1356130096 -- http://opendatafithou.org/poi/building --> yes\n",
            "5. http://opendatafithou.org/poi/2587514016/geometry -- http://www.w3.org/2000/01/rdf-schema#seeAlso --> https://www.wikidata.org/wiki/Q10793991\n",
            "6. http://opendatafithou.org/poi/1302250728 -- http://opendatafithou.org/poi/amenity --> toilets\n",
            "7. http://opendatafithou.org/poi/1330108368/geometry -- http://www.w3.org/1999/02/22-rdf-syntax-ns#type --> http://www.opendatafithou.net/ont/geosparql#Point\n",
            "8. http://opendatafithou.org/poi/11832128104/geometry -- http://opendatafithou.org/poi/leisure --> playground\n",
            "9. http://opendatafithou.org/poi/899221501/geometry -- http://opendatafithou.org/poi/leisure --> playground\n",
            "10. http://opendatafithou.org/poi/1220054904 -- http://opendatafithou.org/poi/building --> yes\n"
          ]
        }
      ]
    },
    {
      "cell_type": "code",
      "source": [
        "push_file(\"toilets_expanded_clean.ttl\", \"opendata_hanoi/toilets_expanded_clean.ttl\", \"Upload RDF toilets file\")"
      ],
      "metadata": {
        "colab": {
          "base_uri": "https://localhost:8080/"
        },
        "id": "L3jj3pe79dQc",
        "outputId": "d39e477f-5eb5-426c-cb71-cc9c9b256afe"
      },
      "execution_count": null,
      "outputs": [
        {
          "output_type": "stream",
          "name": "stdout",
          "text": [
            "✅ File toilets_expanded_clean.ttl đã được đẩy lên GitHub: opendata_hanoi/toilets_expanded_clean.ttl\n"
          ]
        },
        {
          "output_type": "execute_result",
          "data": {
            "text/plain": [
              "True"
            ]
          },
          "metadata": {},
          "execution_count": 65
        }
      ]
    },
    {
      "cell_type": "code",
      "source": [
        "import requests\n",
        "import json\n",
        "\n",
        "# Đường dẫn raw file trên GitHub\n",
        "url = \"https://raw.githubusercontent.com/honganhss/OpenDataFitHou/refs/heads/main/data/bus_stop.geojson\"\n",
        "\n",
        "# Tải dữ liệu từ URL\n",
        "response = requests.get(url)\n",
        "if response.status_code == 200:\n",
        "    try:\n",
        "        # Đọc nội dung JSON\n",
        "        geojson_data = response.json()\n",
        "\n",
        "        # Lưu vào file tạm\n",
        "        with open(\"tmp_bus_stop.geojson\", \"w\", encoding=\"utf-8\") as f:\n",
        "            json.dump(geojson_data, f, ensure_ascii=False, indent=2)\n",
        "\n",
        "        print(\"✅ Lưu thành công vào tmp_bus_stop.geojson\")\n",
        "    except json.JSONDecodeError:\n",
        "        print(\"❌ Nội dung không phải JSON hợp lệ.\")\n",
        "else:\n",
        "    print(f\"❌ Không tải được file: {response.status_code}\")\n"
      ],
      "metadata": {
        "colab": {
          "base_uri": "https://localhost:8080/"
        },
        "id": "phMK1dqa9mdW",
        "outputId": "5dd86aab-f559-4182-9afa-d055093b1ad1"
      },
      "execution_count": null,
      "outputs": [
        {
          "output_type": "stream",
          "name": "stdout",
          "text": [
            "❌ Không tải được file: 404\n"
          ]
        }
      ]
    },
    {
      "cell_type": "code",
      "source": [
        "geojson_to_rdf_clean(\"tmp_bus_stop.geojson\", \"bus_stop_expanded_clean.ttl\")"
      ],
      "metadata": {
        "colab": {
          "base_uri": "https://localhost:8080/"
        },
        "id": "Rn4WOSFw-rXB",
        "outputId": "a64a292f-619d-4365-9840-d59d0d4bc57a"
      },
      "execution_count": null,
      "outputs": [
        {
          "output_type": "stream",
          "name": "stdout",
          "text": [
            "✅ Đã lưu RDF mở rộng sạch sẽ: bus_stop_expanded_clean.ttl\n"
          ]
        },
        {
          "output_type": "execute_result",
          "data": {
            "text/plain": [
              "<Graph identifier=N405ce34e3f264b2da1bf346b56fe4342 (<class 'rdflib.graph.Graph'>)>"
            ]
          },
          "metadata": {},
          "execution_count": 69
        }
      ]
    },
    {
      "cell_type": "code",
      "source": [
        "show_rdf_triples(\"bus_stop_expanded_clean.ttl\", n=10)"
      ],
      "metadata": {
        "colab": {
          "base_uri": "https://localhost:8080/"
        },
        "id": "PsZeD9f--xCl",
        "outputId": "40a4d290-c100-413e-a195-0a663e5f763a"
      },
      "execution_count": null,
      "outputs": [
        {
          "output_type": "stream",
          "name": "stdout",
          "text": [
            "🔹 10 triple đầu tiên trong RDF (bus_stop_expanded_clean.ttl):\n",
            "1. http://opendatafithou.org/poi/9342635870 -- http://www.opendatafithou.net/ont/geosparql#hasGeometry --> http://opendatafithou.org/poi/9342635870/geometry\n",
            "2. http://opendatafithou.org/poi/8897455261 -- http://www.w3.org/2000/01/rdf-schema#label --> Trường CĐ Kỹ Thuật Công Nghiệp HN\n",
            "3. http://opendatafithou.org/poi/8895739841/geometry -- http://opendatafithou.org/poi/osmType --> way\n",
            "4. http://opendatafithou.org/poi/8846358782/geometry -- http://opendatafithou.org/poi/osmType --> way\n",
            "5. http://opendatafithou.org/poi/8895558436/geometry -- http://www.w3.org/1999/02/22-rdf-syntax-ns#type --> http://www.opendatafithou.net/ont/geosparql#Point\n",
            "6. http://opendatafithou.org/poi/9019312710/geometry -- http://www.opendatafithou.net/ont/geosparql#asWKT --> POINT(105.779622 20.9882876)\n",
            "7. http://opendatafithou.org/poi/8919736492/geometry -- http://opendatafithou.org/poi/osmType --> way\n",
            "8. http://opendatafithou.org/poi/738813822 -- http://opendatafithou.org/poi/bin --> no\n",
            "9. http://opendatafithou.org/poi/12579123790/geometry -- http://opendatafithou.org/poi/osmType --> way\n",
            "10. http://opendatafithou.org/poi/11553654370 -- http://www.opendatafithou.net/ont/geosparql#hasGeometry --> http://opendatafithou.org/poi/11553654370/geometry\n"
          ]
        }
      ]
    },
    {
      "cell_type": "code",
      "source": [
        "push_file(\"bus_stop_expanded_clean.ttl\", \"opendata_hanoi/bus_stop_expanded_clean.ttl\", \"Upload RDF bus_stop file\")"
      ],
      "metadata": {
        "colab": {
          "base_uri": "https://localhost:8080/"
        },
        "id": "_gCXzYjy-3Nw",
        "outputId": "54d5661b-89b4-4ac1-80f0-30977a5f0903"
      },
      "execution_count": null,
      "outputs": [
        {
          "output_type": "stream",
          "name": "stdout",
          "text": [
            "✅ File bus_stop_expanded_clean.ttl đã được đẩy lên GitHub: opendata_hanoi/bus_stop_expanded_clean.ttl\n"
          ]
        },
        {
          "output_type": "execute_result",
          "data": {
            "text/plain": [
              "True"
            ]
          },
          "metadata": {},
          "execution_count": 71
        }
      ]
    }
  ]
}